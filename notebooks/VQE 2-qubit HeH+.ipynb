{
 "cells": [
  {
   "cell_type": "markdown",
   "metadata": {},
   "source": [
    "This encodes the Hamiltonian of the helium hydride molecule HeH$^+$. The energy $\\langle H \\rangle$ is measured as follows:\n",
    "$$\n",
    "\\langle H \\rangle = p(00) + p(01) - p(10) - p(11).\n",
    "$$\n",
    "The lowest energy state is then found using a loop of quantum circuit executions and classical optimization."
   ]
  },
  {
   "cell_type": "code",
   "execution_count": 10,
   "metadata": {},
   "outputs": [],
   "source": [
    "import numpy as np\n",
    "\n",
    "from quantuminspire.credentials import enable_account, get_token_authentication\n",
    "from quantuminspire.api import QuantumInspireAPI\n",
    "\n",
    "enable_account('6ea0bc8530ed4c97073aff535b5b52fd617cc6ed')\n",
    "auth = get_token_authentication()\n",
    "server_url = r'https://api.quantum-inspire.com'\n",
    "qi = QuantumInspireAPI(server_url, auth)\n",
    "\n",
    "def estimate_hamiltonian(params, shots=1024, backend='QX single-node simulator'):\n",
    "    print(f'Running quantum circuit with params {params}')\n",
    "    \n",
    "    qasm = f'''version 1.0\n",
    "qubits 2\n",
    "\n",
    ".ansatz\n",
    "{{Rx q[0], {params[0]} | Rx q[1], {params[1]}}}\n",
    "{{Rz q[0], {params[2]} | Rz q[1], {params[3]}}}\n",
    "\n",
    "H q[0]\n",
    "CNOT q[0], q[1]\n",
    "H q[1]\n",
    "CNOT q[1], q[0]\n",
    "\n",
    "{{Rz q[0], {params[4]} | Rz q[1], {params[5]}}}\n",
    "{{Rx q[0], {params[6]} | Rx q[1], {params[7]}}}\n",
    "{{Rz q[0], {params[8]} | Rz q[1], {params[9]}}}\n",
    "\n",
    ".measurement\n",
    "measure_all\n",
    "'''\n",
    "    backend_type = qi.get_backend_type_by_name(backend)\n",
    "    result = %time qi.execute_qasm(qasm, backend_type=backend_type, number_of_shots=shots)\n",
    "    \n",
    "    if result.get('histogram', {}):\n",
    "        hist = result['histogram']\n",
    "        expval = hist.get('0') + hist.get('1') - hist.get('2') - hist.get('3')\n",
    "        return expval\n",
    "    else:\n",
    "        reason = result.get('raw_text', 'No reason in result structure.')\n",
    "        raise RuntimeError(f'Result structure does not contain proper histogram data. {reason}')"
   ]
  },
  {
   "cell_type": "code",
   "execution_count": 8,
   "metadata": {},
   "outputs": [],
   "source": [
    "from scipy.optimize import minimize\n",
    "\n",
    "def find_minimum(params, backend):\n",
    "    return minimize(lambda p: estimate_hamiltonian(p, backend=backend), params, method='nelder-mead',\n",
    "                    options={'xtol': 1e-12, 'disp': True, 'maxiter': 10})\n",
    "\n",
    "np.random.seed(111)"
   ]
  },
  {
   "cell_type": "markdown",
   "metadata": {},
   "source": [
    "## Spin-2 back-end"
   ]
  },
  {
   "cell_type": "code",
   "execution_count": 10,
   "metadata": {},
   "outputs": [
    {
     "name": "stdout",
     "output_type": "stream",
     "text": [
      "Running quantum circuit with params [ 0.704786   -2.07929606 -0.40175303  1.69182601 -1.28600904 -2.20437415\n",
      " -3.00035718 -0.5012443  -1.64190853 -1.02003623]\n",
      "Running quantum circuit with params [ 0.7400253  -2.07929606 -0.40175303  1.69182601 -1.28600904 -2.20437415\n",
      " -3.00035718 -0.5012443  -1.64190853 -1.02003623]\n",
      "Running quantum circuit with params [ 0.704786   -2.18326086 -0.40175303  1.69182601 -1.28600904 -2.20437415\n",
      " -3.00035718 -0.5012443  -1.64190853 -1.02003623]\n",
      "Running quantum circuit with params [ 0.704786   -2.07929606 -0.42184068  1.69182601 -1.28600904 -2.20437415\n",
      " -3.00035718 -0.5012443  -1.64190853 -1.02003623]\n",
      "Running quantum circuit with params [ 0.704786   -2.07929606 -0.40175303  1.77641731 -1.28600904 -2.20437415\n",
      " -3.00035718 -0.5012443  -1.64190853 -1.02003623]\n",
      "Running quantum circuit with params [ 0.704786   -2.07929606 -0.40175303  1.69182601 -1.35030949 -2.20437415\n",
      " -3.00035718 -0.5012443  -1.64190853 -1.02003623]\n",
      "Running quantum circuit with params [ 0.704786   -2.07929606 -0.40175303  1.69182601 -1.28600904 -2.31459286\n",
      " -3.00035718 -0.5012443  -1.64190853 -1.02003623]\n",
      "Running quantum circuit with params [ 0.704786   -2.07929606 -0.40175303  1.69182601 -1.28600904 -2.20437415\n",
      " -3.15037503 -0.5012443  -1.64190853 -1.02003623]\n",
      "Running quantum circuit with params [ 0.704786   -2.07929606 -0.40175303  1.69182601 -1.28600904 -2.20437415\n",
      " -3.00035718 -0.52630651 -1.64190853 -1.02003623]\n",
      "Running quantum circuit with params [ 0.704786   -2.07929606 -0.40175303  1.69182601 -1.28600904 -2.20437415\n",
      " -3.00035718 -0.5012443  -1.72400396 -1.02003623]\n",
      "Running quantum circuit with params [ 0.704786   -2.07929606 -0.40175303  1.69182601 -1.28600904 -2.20437415\n",
      " -3.00035718 -0.5012443  -1.64190853 -1.07103804]\n",
      "Running quantum circuit with params [ 0.71183386 -2.10008902 -0.38166538  1.70874427 -1.29886913 -2.22641789\n",
      " -3.03036075 -0.50625674 -1.65832762 -1.03023659]\n",
      "Running quantum circuit with params [ 0.71324343 -2.10424761 -0.3977355   1.71212792 -1.30144115 -2.23082664\n",
      " -3.03636146 -0.50725923 -1.66161143 -0.97107449]\n",
      "Running quantum circuit with params [ 0.71112907 -2.09800972 -0.39873988  1.70705245 -1.29758312 -2.22421352\n",
      " -3.02736039 -0.5057555  -1.65668571 -0.99606538]\n",
      "Running quantum circuit with params [ 0.71451205 -2.10799034 -0.39713287  1.71517321 -1.30375596 -2.23479452\n",
      " -3.0417621  -0.50816147 -1.66456687 -1.01728213]\n",
      "Running quantum circuit with params [ 0.71208053 -2.10081677 -0.39828791  1.70933641 -1.29931923 -2.22718943\n",
      " -3.03141087 -0.50643218 -1.65890228 -1.01797066]\n",
      "Running quantum circuit with params [ 0.72240565 -2.07929606 -0.40175303  1.69182601 -1.28600904 -2.25948351\n",
      " -3.00035718 -0.5012443  -1.64190853 -1.02003623]\n",
      "Running quantum circuit with params [ 0.704786   -2.07929606 -0.40175303  1.69182601 -1.28600904 -2.25948351\n",
      " -3.00035718 -0.51377541 -1.64190853 -1.02003623]\n",
      "Running quantum circuit with params [ 0.70795754 -2.08865289 -0.40024646  1.69943923 -1.29179608 -2.26940319\n",
      " -3.01385878 -0.5034999  -1.64929712 -1.0080508 ]\n",
      "Running quantum circuit with params [ 0.704786   -2.13127846 -0.40175303  1.69182601 -1.28600904 -2.25948351\n",
      " -3.00035718 -0.5012443  -1.64190853 -1.02003623]\n",
      "Running quantum circuit with params [ 0.704786   -2.07929606 -0.40175303  1.69182601 -1.28600904 -2.25948351\n",
      " -3.0753661  -0.5012443  -1.64190853 -1.02003623]\n",
      "Running quantum circuit with params [ 0.704786   -2.07929606 -0.40175303  1.73412166 -1.28600904 -2.25948351\n",
      " -3.00035718 -0.5012443  -1.64190853 -1.02003623]\n",
      "Running quantum circuit with params [ 0.704786   -2.07929606 -0.40175303  1.69182601 -1.28600904 -2.25948351\n",
      " -3.00035718 -0.5012443  -1.68295624 -1.02003623]\n",
      "Running quantum circuit with params [ 0.70830993 -2.08969254 -0.3917092   1.70028514 -1.29243909 -2.27050538\n",
      " -3.01535896 -0.50375052 -1.65011807 -1.02513641]\n",
      "Running quantum circuit with params [ 0.704786   -2.07929606 -0.40175303  1.69182601 -1.31815927 -2.25948351\n",
      " -3.00035718 -0.5012443  -1.64190853 -1.02003623]\n",
      "Running quantum circuit with params [ 0.704786   -2.07929606 -0.40175303  1.69182601 -1.28600904 -2.25948351\n",
      " -3.00035718 -0.5012443  -1.64190853 -1.02003623]\n",
      "Running quantum circuit with params [ 0.70542031 -2.08116742 -0.41149554  1.69334865 -1.28716645 -2.26146744\n",
      " -3.0030575  -0.50169542 -1.64338625 -1.01253896]\n",
      "Running quantum circuit with params [ 0.70758752 -2.08756126 -0.39665579  1.69855102 -1.29112093 -2.26824589\n",
      " -3.01228359 -0.50323674 -1.64843512 -1.02198705]\n",
      "Running quantum circuit with params [ 0.7056987  -2.08198875 -0.40224016  1.69401693 -1.28767442 -2.26233817\n",
      " -3.00424264 -0.50189341 -1.6440348  -1.03241182]\n",
      "Running quantum circuit with params [ 0.70739283 -2.08698685 -0.40074488  1.69808365 -1.29076567 -2.26763694\n",
      " -3.01145475 -0.50309828 -1.64798154 -1.01414106]\n",
      "Running quantum circuit with params [ 0.7093916  -2.09288374 -0.40053195  1.70288167 -1.29441279 -2.27388854\n",
      " -3.01996376 -0.48948248 -1.65263799 -1.01924736]\n",
      "Running quantum circuit with params [ 0.7059374  -2.08269298 -0.40144776  1.69458993 -1.28810998 -2.26308477\n",
      " -3.00525882 -0.50770217 -1.6445909  -1.01983901]\n",
      "Running quantum circuit with params [ 0.7082402  -2.08948682 -0.40083722  1.70011776 -1.29231185 -2.27028728\n",
      " -3.01506211 -0.49555571 -1.64995563 -1.01944458]\n",
      "Running quantum circuit with params [ 0.7065131  -2.08439144 -0.40129513  1.69597188 -1.28916045 -2.26488539\n",
      " -3.00770964 -0.50466556 -1.64593208 -1.0197404 ]\n",
      "Running quantum circuit with params [ 0.70637519 -2.08398457 -0.40655706  1.69564084 -1.28890881 -2.26445405\n",
      " -3.00712255 -0.5003069  -1.6456108  -1.01684721]\n",
      "Running quantum circuit with params [ 0.70728444 -2.08666709 -0.39913111  1.69782347 -1.2905679  -2.26729793\n",
      " -3.01099333 -0.50250428 -1.64772904 -1.02070209]\n",
      "Running quantum circuit with params [ 0.7096764  -2.09372398 -0.40093543  1.70356534 -1.29493246 -2.27477933\n",
      " -2.93116549 -0.50255134 -1.65330149 -1.0189312 ]\n",
      "Running quantum circuit with params [ 0.7060086  -2.08290304 -0.40154863  1.69476084 -1.2882399  -2.26330746\n",
      " -3.03931595 -0.50157106 -1.64475677 -1.01975997]\n",
      "Warning: Maximum number of iterations has been exceeded.\n"
     ]
    }
   ],
   "source": [
    "params = np.random.uniform(low=-np.pi, high=np.pi, size=(10,))\n",
    "find_minimum(params, 'Spin-2')"
   ]
  },
  {
   "cell_type": "markdown",
   "metadata": {},
   "source": [
    "## QX single-node simulator"
   ]
  },
  {
   "cell_type": "code",
   "execution_count": 12,
   "metadata": {},
   "outputs": [
    {
     "name": "stdout",
     "output_type": "stream",
     "text": [
      "Running quantum circuit with params [ 1.84702124  2.13986221  1.98050687  3.08476031  0.48552579  1.97145568\n",
      " -0.49437436 -2.96913204 -0.28816797 -2.47980934]\n"
     ]
    },
    {
     "name": "stderr",
     "output_type": "stream",
     "text": [
      "Your experiment can not be optimized and may take longer to execute, see https://www.quantum-inspire.com/kbase/optimization-of-simulations/ for details.\n",
      "Your experiment can not be optimized and may take longer to execute, see https://www.quantum-inspire.com/kbase/optimization-of-simulations/ for details.\n"
     ]
    },
    {
     "name": "stdout",
     "output_type": "stream",
     "text": [
      "CPU times: user 232 ms, sys: 25.8 ms, total: 258 ms\n",
      "Wall time: 27.2 s\n",
      "Running quantum circuit with params [ 1.9393723   2.13986221  1.98050687  3.08476031  0.48552579  1.97145568\n",
      " -0.49437436 -2.96913204 -0.28816797 -2.47980934]\n",
      "CPU times: user 195 ms, sys: 15.7 ms, total: 211 ms\n",
      "Wall time: 22.2 s\n"
     ]
    },
    {
     "ename": "RuntimeError",
     "evalue": "Result structure does not contain proper histogram data. Error occurred in simulation:\nb\"qx-simulator: ../nptl/pthread_mutex_lock.c:81: __pthread_mutex_cond_lock: Assertion `mutex->__data.__owner == 0' failed.\\n\"",
     "output_type": "error",
     "traceback": [
      "\u001b[0;31m---------------------------------------------------------------------------\u001b[0m",
      "\u001b[0;31mRuntimeError\u001b[0m                              Traceback (most recent call last)",
      "\u001b[0;32m<timed eval>\u001b[0m in \u001b[0;36m<module>\u001b[0;34m\u001b[0m\n",
      "\u001b[0;32m<ipython-input-8-81f6a20f328c>\u001b[0m in \u001b[0;36mfind_minimum\u001b[0;34m(params, backend)\u001b[0m\n\u001b[1;32m      3\u001b[0m \u001b[0;32mdef\u001b[0m \u001b[0mfind_minimum\u001b[0m\u001b[0;34m(\u001b[0m\u001b[0mparams\u001b[0m\u001b[0;34m,\u001b[0m \u001b[0mbackend\u001b[0m\u001b[0;34m)\u001b[0m\u001b[0;34m:\u001b[0m\u001b[0;34m\u001b[0m\u001b[0;34m\u001b[0m\u001b[0m\n\u001b[1;32m      4\u001b[0m     return minimize(lambda p: estimate_hamiltonian(p, backend=backend), params, method='nelder-mead',\n\u001b[0;32m----> 5\u001b[0;31m                     options={'xtol': 1e-12, 'disp': True, 'maxiter': 10})\n\u001b[0m\u001b[1;32m      6\u001b[0m \u001b[0;34m\u001b[0m\u001b[0m\n\u001b[1;32m      7\u001b[0m \u001b[0mnp\u001b[0m\u001b[0;34m.\u001b[0m\u001b[0mrandom\u001b[0m\u001b[0;34m.\u001b[0m\u001b[0mseed\u001b[0m\u001b[0;34m(\u001b[0m\u001b[0;36m111\u001b[0m\u001b[0;34m)\u001b[0m\u001b[0;34m\u001b[0m\u001b[0;34m\u001b[0m\u001b[0m\n",
      "\u001b[0;32m~/anaconda3/lib/python3.7/site-packages/scipy/optimize/_minimize.py\u001b[0m in \u001b[0;36mminimize\u001b[0;34m(fun, x0, args, method, jac, hess, hessp, bounds, constraints, tol, callback, options)\u001b[0m\n\u001b[1;32m    586\u001b[0m                       callback=callback, **options)\n\u001b[1;32m    587\u001b[0m     \u001b[0;32melif\u001b[0m \u001b[0mmeth\u001b[0m \u001b[0;34m==\u001b[0m \u001b[0;34m'nelder-mead'\u001b[0m\u001b[0;34m:\u001b[0m\u001b[0;34m\u001b[0m\u001b[0;34m\u001b[0m\u001b[0m\n\u001b[0;32m--> 588\u001b[0;31m         \u001b[0;32mreturn\u001b[0m \u001b[0m_minimize_neldermead\u001b[0m\u001b[0;34m(\u001b[0m\u001b[0mfun\u001b[0m\u001b[0;34m,\u001b[0m \u001b[0mx0\u001b[0m\u001b[0;34m,\u001b[0m \u001b[0margs\u001b[0m\u001b[0;34m,\u001b[0m \u001b[0mcallback\u001b[0m\u001b[0;34m,\u001b[0m \u001b[0;34m**\u001b[0m\u001b[0moptions\u001b[0m\u001b[0;34m)\u001b[0m\u001b[0;34m\u001b[0m\u001b[0;34m\u001b[0m\u001b[0m\n\u001b[0m\u001b[1;32m    589\u001b[0m     \u001b[0;32melif\u001b[0m \u001b[0mmeth\u001b[0m \u001b[0;34m==\u001b[0m \u001b[0;34m'powell'\u001b[0m\u001b[0;34m:\u001b[0m\u001b[0;34m\u001b[0m\u001b[0;34m\u001b[0m\u001b[0m\n\u001b[1;32m    590\u001b[0m         \u001b[0;32mreturn\u001b[0m \u001b[0m_minimize_powell\u001b[0m\u001b[0;34m(\u001b[0m\u001b[0mfun\u001b[0m\u001b[0;34m,\u001b[0m \u001b[0mx0\u001b[0m\u001b[0;34m,\u001b[0m \u001b[0margs\u001b[0m\u001b[0;34m,\u001b[0m \u001b[0mcallback\u001b[0m\u001b[0;34m,\u001b[0m \u001b[0;34m**\u001b[0m\u001b[0moptions\u001b[0m\u001b[0;34m)\u001b[0m\u001b[0;34m\u001b[0m\u001b[0;34m\u001b[0m\u001b[0m\n",
      "\u001b[0;32m~/anaconda3/lib/python3.7/site-packages/scipy/optimize/optimize.py\u001b[0m in \u001b[0;36m_minimize_neldermead\u001b[0;34m(func, x0, args, callback, maxiter, maxfev, disp, return_all, initial_simplex, xatol, fatol, adaptive, **unknown_options)\u001b[0m\n\u001b[1;32m    583\u001b[0m \u001b[0;34m\u001b[0m\u001b[0m\n\u001b[1;32m    584\u001b[0m     \u001b[0;32mfor\u001b[0m \u001b[0mk\u001b[0m \u001b[0;32min\u001b[0m \u001b[0mrange\u001b[0m\u001b[0;34m(\u001b[0m\u001b[0mN\u001b[0m \u001b[0;34m+\u001b[0m \u001b[0;36m1\u001b[0m\u001b[0;34m)\u001b[0m\u001b[0;34m:\u001b[0m\u001b[0;34m\u001b[0m\u001b[0;34m\u001b[0m\u001b[0m\n\u001b[0;32m--> 585\u001b[0;31m         \u001b[0mfsim\u001b[0m\u001b[0;34m[\u001b[0m\u001b[0mk\u001b[0m\u001b[0;34m]\u001b[0m \u001b[0;34m=\u001b[0m \u001b[0mfunc\u001b[0m\u001b[0;34m(\u001b[0m\u001b[0msim\u001b[0m\u001b[0;34m[\u001b[0m\u001b[0mk\u001b[0m\u001b[0;34m]\u001b[0m\u001b[0;34m)\u001b[0m\u001b[0;34m\u001b[0m\u001b[0;34m\u001b[0m\u001b[0m\n\u001b[0m\u001b[1;32m    586\u001b[0m \u001b[0;34m\u001b[0m\u001b[0m\n\u001b[1;32m    587\u001b[0m     \u001b[0mind\u001b[0m \u001b[0;34m=\u001b[0m \u001b[0mnumpy\u001b[0m\u001b[0;34m.\u001b[0m\u001b[0margsort\u001b[0m\u001b[0;34m(\u001b[0m\u001b[0mfsim\u001b[0m\u001b[0;34m)\u001b[0m\u001b[0;34m\u001b[0m\u001b[0;34m\u001b[0m\u001b[0m\n",
      "\u001b[0;32m~/anaconda3/lib/python3.7/site-packages/scipy/optimize/optimize.py\u001b[0m in \u001b[0;36mfunction_wrapper\u001b[0;34m(*wrapper_args)\u001b[0m\n\u001b[1;32m    324\u001b[0m     \u001b[0;32mdef\u001b[0m \u001b[0mfunction_wrapper\u001b[0m\u001b[0;34m(\u001b[0m\u001b[0;34m*\u001b[0m\u001b[0mwrapper_args\u001b[0m\u001b[0;34m)\u001b[0m\u001b[0;34m:\u001b[0m\u001b[0;34m\u001b[0m\u001b[0;34m\u001b[0m\u001b[0m\n\u001b[1;32m    325\u001b[0m         \u001b[0mncalls\u001b[0m\u001b[0;34m[\u001b[0m\u001b[0;36m0\u001b[0m\u001b[0;34m]\u001b[0m \u001b[0;34m+=\u001b[0m \u001b[0;36m1\u001b[0m\u001b[0;34m\u001b[0m\u001b[0;34m\u001b[0m\u001b[0m\n\u001b[0;32m--> 326\u001b[0;31m         \u001b[0;32mreturn\u001b[0m \u001b[0mfunction\u001b[0m\u001b[0;34m(\u001b[0m\u001b[0;34m*\u001b[0m\u001b[0;34m(\u001b[0m\u001b[0mwrapper_args\u001b[0m \u001b[0;34m+\u001b[0m \u001b[0margs\u001b[0m\u001b[0;34m)\u001b[0m\u001b[0;34m)\u001b[0m\u001b[0;34m\u001b[0m\u001b[0;34m\u001b[0m\u001b[0m\n\u001b[0m\u001b[1;32m    327\u001b[0m \u001b[0;34m\u001b[0m\u001b[0m\n\u001b[1;32m    328\u001b[0m     \u001b[0;32mreturn\u001b[0m \u001b[0mncalls\u001b[0m\u001b[0;34m,\u001b[0m \u001b[0mfunction_wrapper\u001b[0m\u001b[0;34m\u001b[0m\u001b[0;34m\u001b[0m\u001b[0m\n",
      "\u001b[0;32m<ipython-input-8-81f6a20f328c>\u001b[0m in \u001b[0;36m<lambda>\u001b[0;34m(p)\u001b[0m\n\u001b[1;32m      2\u001b[0m \u001b[0;34m\u001b[0m\u001b[0m\n\u001b[1;32m      3\u001b[0m \u001b[0;32mdef\u001b[0m \u001b[0mfind_minimum\u001b[0m\u001b[0;34m(\u001b[0m\u001b[0mparams\u001b[0m\u001b[0;34m,\u001b[0m \u001b[0mbackend\u001b[0m\u001b[0;34m)\u001b[0m\u001b[0;34m:\u001b[0m\u001b[0;34m\u001b[0m\u001b[0;34m\u001b[0m\u001b[0m\n\u001b[0;32m----> 4\u001b[0;31m     return minimize(lambda p: estimate_hamiltonian(p, backend=backend), params, method='nelder-mead',\n\u001b[0m\u001b[1;32m      5\u001b[0m                     options={'xtol': 1e-12, 'disp': True, 'maxiter': 10})\n\u001b[1;32m      6\u001b[0m \u001b[0;34m\u001b[0m\u001b[0m\n",
      "\u001b[0;32m<ipython-input-10-20cf41e2a8b5>\u001b[0m in \u001b[0;36mestimate_hamiltonian\u001b[0;34m(params, shots, backend)\u001b[0m\n\u001b[1;32m     40\u001b[0m     \u001b[0;32melse\u001b[0m\u001b[0;34m:\u001b[0m\u001b[0;34m\u001b[0m\u001b[0;34m\u001b[0m\u001b[0m\n\u001b[1;32m     41\u001b[0m         \u001b[0mreason\u001b[0m \u001b[0;34m=\u001b[0m \u001b[0mresult\u001b[0m\u001b[0;34m.\u001b[0m\u001b[0mget\u001b[0m\u001b[0;34m(\u001b[0m\u001b[0;34m'raw_text'\u001b[0m\u001b[0;34m,\u001b[0m \u001b[0;34m'No reason in result structure.'\u001b[0m\u001b[0;34m)\u001b[0m\u001b[0;34m\u001b[0m\u001b[0;34m\u001b[0m\u001b[0m\n\u001b[0;32m---> 42\u001b[0;31m         \u001b[0;32mraise\u001b[0m \u001b[0mRuntimeError\u001b[0m\u001b[0;34m(\u001b[0m\u001b[0;34mf'Result structure does not contain proper histogram data. {reason}'\u001b[0m\u001b[0;34m)\u001b[0m\u001b[0;34m\u001b[0m\u001b[0;34m\u001b[0m\u001b[0m\n\u001b[0m",
      "\u001b[0;31mRuntimeError\u001b[0m: Result structure does not contain proper histogram data. Error occurred in simulation:\nb\"qx-simulator: ../nptl/pthread_mutex_lock.c:81: __pthread_mutex_cond_lock: Assertion `mutex->__data.__owner == 0' failed.\\n\""
     ]
    }
   ],
   "source": [
    "params = np.random.uniform(low=-np.pi, high=np.pi, size=(10,))\n",
    "%time find_minimum(params, 'QX single-node simulator')"
   ]
  }
 ],
 "metadata": {
  "kernelspec": {
   "display_name": "Python 3",
   "language": "python",
   "name": "python3"
  },
  "language_info": {
   "codemirror_mode": {
    "name": "ipython",
    "version": 3
   },
   "file_extension": ".py",
   "mimetype": "text/x-python",
   "name": "python",
   "nbconvert_exporter": "python",
   "pygments_lexer": "ipython3",
   "version": "3.7.1"
  }
 },
 "nbformat": 4,
 "nbformat_minor": 2
}
