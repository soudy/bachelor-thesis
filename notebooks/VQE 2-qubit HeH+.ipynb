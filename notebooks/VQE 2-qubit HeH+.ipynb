{
 "cells": [
  {
   "cell_type": "markdown",
   "metadata": {},
   "source": [
    "This encodes the Hamiltonian of the helium hydride molecule HeH$^+$. The energy $\\langle H \\rangle$ is measured as follows:\n",
    "$$\n",
    "\\langle H \\rangle = p(00) + p(01) - p(10) - p(11).\n",
    "$$\n",
    "The lowest energy state is then found using a loop of quantum circuit executions and classical optimization."
   ]
  },
  {
   "cell_type": "code",
   "execution_count": 21,
   "metadata": {},
   "outputs": [],
   "source": [
    "import numpy as np\n",
    "\n",
    "from quantuminspire.credentials import enable_account, get_token_authentication\n",
    "from quantuminspire.api import QuantumInspireAPI\n",
    "\n",
    "enable_account('6ea0bc8530ed4c97073aff535b5b52fd617cc6ed')\n",
    "auth = get_token_authentication()\n",
    "server_url = r'https://api.quantum-inspire.com'\n",
    "qi = QuantumInspireAPI(server_url, auth)\n",
    "\n",
    "def estimate_hamiltonian(params, shots=1024, backend='QX single-node simulator'):\n",
    "    print(f'Running quantum circuit with params {params}')\n",
    "    \n",
    "    qasm = f'''version 1.0\n",
    "qubits 2\n",
    "\n",
    ".ansatz\n",
    "{{Rx q[0], {params[0]} | Rx q[1], {params[1]}}}\n",
    "{{Rz q[0], {params[2]} | Rz q[1], {params[3]}}}\n",
    "\n",
    "H q[0]\n",
    "CNOT q[0], q[1]\n",
    "H q[1]\n",
    "CNOT q[1], q[0]\n",
    "\n",
    "{{Rz q[0], {params[4]} | Rz q[1], {params[5]}}}\n",
    "{{Rx q[0], {params[6]} | Rx q[1], {params[7]}}}\n",
    "{{Rz q[0], {params[8]} | Rz q[1], {params[9]}}}\n",
    "\n",
    ".measurement\n",
    "measure_all\n",
    "'''\n",
    "    backend_type = qi.get_backend_type_by_name(backend)\n",
    "    result = %time qi.execute_qasm(qasm, backend_type=backend_type, number_of_shots=shots)\n",
    "    \n",
    "    if result.get('histogram', {}):\n",
    "        hist = result['histogram']\n",
    "        expval = hist.get('0') + hist.get('1') - hist.get('2') - hist.get('3')\n",
    "        return expval\n",
    "    else:\n",
    "        reason = result.get('raw_text', 'No reason in result structure.')\n",
    "        raise RuntimeError(f'Result structure does not contain proper histogram data. {reason}')"
   ]
  },
  {
   "cell_type": "code",
   "execution_count": 22,
   "metadata": {},
   "outputs": [],
   "source": [
    "from scipy.optimize import minimize\n",
    "\n",
    "def find_minimum(params, backend):\n",
    "    return minimize(lambda p: estimate_hamiltonian(p, backend=backend), params, method='nelder-mead',\n",
    "                    options={'xtol': 1e-12, 'disp': True, 'maxiter': 10})"
   ]
  },
  {
   "cell_type": "markdown",
   "metadata": {},
   "source": [
    "## Spin-2 back-end"
   ]
  },
  {
   "cell_type": "code",
   "execution_count": 23,
   "metadata": {},
   "outputs": [
    {
     "name": "stdout",
     "output_type": "stream",
     "text": [
      "Running quantum circuit with params [ 0.704786   -2.07929606 -0.40175303  1.69182601 -1.28600904 -2.20437415\n",
      " -3.00035718 -0.5012443  -1.64190853 -1.02003623]\n",
      "CPU times: user 228 ms, sys: 8.03 ms, total: 236 ms\n",
      "Wall time: 27.3 s\n",
      "Running quantum circuit with params [ 0.7400253  -2.07929606 -0.40175303  1.69182601 -1.28600904 -2.20437415\n",
      " -3.00035718 -0.5012443  -1.64190853 -1.02003623]\n",
      "CPU times: user 237 ms, sys: 21.5 ms, total: 259 ms\n",
      "Wall time: 27 s\n",
      "Running quantum circuit with params [ 0.704786   -2.18326086 -0.40175303  1.69182601 -1.28600904 -2.20437415\n",
      " -3.00035718 -0.5012443  -1.64190853 -1.02003623]\n",
      "CPU times: user 244 ms, sys: 6.85 ms, total: 250 ms\n",
      "Wall time: 26.8 s\n",
      "Running quantum circuit with params [ 0.704786   -2.07929606 -0.42184068  1.69182601 -1.28600904 -2.20437415\n",
      " -3.00035718 -0.5012443  -1.64190853 -1.02003623]\n",
      "CPU times: user 241 ms, sys: 22.4 ms, total: 264 ms\n",
      "Wall time: 26.3 s\n",
      "Running quantum circuit with params [ 0.704786   -2.07929606 -0.40175303  1.77641731 -1.28600904 -2.20437415\n",
      " -3.00035718 -0.5012443  -1.64190853 -1.02003623]\n",
      "CPU times: user 234 ms, sys: 10.9 ms, total: 245 ms\n",
      "Wall time: 26.8 s\n",
      "Running quantum circuit with params [ 0.704786   -2.07929606 -0.40175303  1.69182601 -1.35030949 -2.20437415\n",
      " -3.00035718 -0.5012443  -1.64190853 -1.02003623]\n",
      "CPU times: user 246 ms, sys: 18.2 ms, total: 264 ms\n",
      "Wall time: 27 s\n",
      "Running quantum circuit with params [ 0.704786   -2.07929606 -0.40175303  1.69182601 -1.28600904 -2.31459286\n",
      " -3.00035718 -0.5012443  -1.64190853 -1.02003623]\n",
      "CPU times: user 220 ms, sys: 19.2 ms, total: 239 ms\n",
      "Wall time: 26.9 s\n",
      "Running quantum circuit with params [ 0.704786   -2.07929606 -0.40175303  1.69182601 -1.28600904 -2.20437415\n",
      " -3.15037503 -0.5012443  -1.64190853 -1.02003623]\n",
      "CPU times: user 251 ms, sys: 16.3 ms, total: 267 ms\n",
      "Wall time: 26.9 s\n",
      "Running quantum circuit with params [ 0.704786   -2.07929606 -0.40175303  1.69182601 -1.28600904 -2.20437415\n",
      " -3.00035718 -0.52630651 -1.64190853 -1.02003623]\n",
      "CPU times: user 248 ms, sys: 24.6 ms, total: 273 ms\n",
      "Wall time: 27.1 s\n",
      "Running quantum circuit with params [ 0.704786   -2.07929606 -0.40175303  1.69182601 -1.28600904 -2.20437415\n",
      " -3.00035718 -0.5012443  -1.72400396 -1.02003623]\n",
      "CPU times: user 219 ms, sys: 7.97 ms, total: 227 ms\n",
      "Wall time: 26.8 s\n",
      "Running quantum circuit with params [ 0.704786   -2.07929606 -0.40175303  1.69182601 -1.28600904 -2.20437415\n",
      " -3.00035718 -0.5012443  -1.64190853 -1.07103804]\n",
      "CPU times: user 244 ms, sys: 6.15 ms, total: 250 ms\n",
      "Wall time: 26.3 s\n",
      "Running quantum circuit with params [ 0.71183386 -2.10008902 -0.40577056  1.70874427 -1.29886913 -2.22641789\n",
      " -3.03036075 -0.50625674 -1.5598131  -1.03023659]\n",
      "CPU times: user 213 ms, sys: 14.9 ms, total: 228 ms\n",
      "Wall time: 26.7 s\n",
      "Running quantum circuit with params [ 0.71324343 -2.10424761 -0.40657407  1.71212792 -1.30144115 -2.23082664\n",
      " -2.85634003 -0.50725923 -1.62548945 -1.03227666]\n",
      "CPU times: user 228 ms, sys: 17.1 ms, total: 245 ms\n",
      "Wall time: 26.9 s\n",
      "Running quantum circuit with params [ 0.71493492 -2.10923792 -0.40753827  1.61467875 -1.30452757 -2.23611714\n",
      " -2.97755446 -0.50846222 -1.62220563 -1.03472475]\n",
      "CPU times: user 179 ms, sys: 7.92 ms, total: 187 ms\n",
      "Wall time: 27.3 s\n",
      "Running quantum circuit with params [ 0.67467754 -2.11522629 -0.40869532  1.68384059 -1.30823128 -2.24246574\n",
      " -2.97299392 -0.5099058  -1.61826505 -1.03766246]\n",
      "CPU times: user 161 ms, sys: 13.6 ms, total: 175 ms\n",
      "Wall time: 26.8 s\n",
      "Running quantum circuit with params [ 0.69101448 -2.10624373 -0.40695975  1.68583695 -1.30267572 -2.23294284\n",
      " -2.97983473 -0.50774042 -1.62417592 -1.0332559 ]\n",
      "CPU times: user 158 ms, sys: 11.4 ms, total: 169 ms\n",
      "Wall time: 26.4 s\n",
      "Running quantum circuit with params [ 0.69498384 -2.08468559 -0.40279437  1.7752195  -1.28934238 -2.21008789\n",
      " -2.99625269 -0.50254352 -1.63836201 -1.02268016]\n",
      "CPU times: user 241 ms, sys: 8.68 ms, total: 250 ms\n",
      "Wall time: 27.2 s\n",
      "Running quantum circuit with params [ 0.70994715 -2.10309984 -0.4063523   1.65481393 -1.30073127 -2.22960983\n",
      " -2.98222902 -0.50698254 -1.62624472 -1.0317136 ]\n",
      "CPU times: user 250 ms, sys: 9.84 ms, total: 260 ms\n",
      "Wall time: 26.5 s\n",
      "Running quantum circuit with params [ 0.70616498 -1.99463045 -0.40949947  1.69066982 -1.31080535 -2.24687801\n",
      " -2.96982434 -0.51090909 -1.61552634 -1.03970416]\n",
      "CPU times: user 233 ms, sys: 8.07 ms, total: 241 ms\n",
      "Wall time: 26.8 s\n",
      "Running quantum circuit with params [ 0.70685448 -1.90031524 -0.41337269  1.69009172 -1.32320351 -2.26812994\n",
      " -2.95455792 -0.51574149 -1.60233525 -1.04953813]\n",
      "CPU times: user 266 ms, sys: 14 ms, total: 280 ms\n",
      "Wall time: 27 s\n",
      "Running quantum circuit with params [ 0.70644078 -2.08166213 -0.41104876  1.69043858 -1.31576461 -2.25537879\n",
      " -2.96371777 -0.51284205 -1.61024991 -1.04363775]\n",
      "CPU times: user 225 ms, sys: 18.9 ms, total: 244 ms\n",
      "Wall time: 26.5 s\n",
      "Running quantum circuit with params [ 0.70519969 -2.07988758 -0.40407696  1.69147915 -1.29344793 -2.21712531\n",
      " -2.99119732 -0.50414374 -1.63399387 -1.02593661]\n",
      "CPU times: user 193 ms, sys: 23.3 ms, total: 216 ms\n",
      "Wall time: 26.9 s\n",
      "Running quantum circuit with params [ 0.70547549 -2.03696325 -0.40562625  1.69124791 -1.2984072  -2.22562608\n",
      " -2.98509076 -0.5186078  -1.62871744 -1.0298702 ]\n",
      "CPU times: user 226 ms, sys: 14.6 ms, total: 240 ms\n",
      "Wall time: 27.9 s\n",
      "Running quantum circuit with params [ 0.70547549 -2.03696325 -0.41567008  1.69124791 -1.2984072  -2.22562608\n",
      " -2.98509076 -0.50607669 -1.62871744 -1.0298702 ]\n",
      "CPU times: user 213 ms, sys: 12.9 ms, total: 226 ms\n",
      "Wall time: 26.9 s\n",
      "Running quantum circuit with params [ 0.70899942 -2.04735973 -0.40763502  1.69970704 -1.30483724 -2.23664795\n",
      " -3.00009254 -0.50858292 -1.58766972 -1.03497038]\n",
      "CPU times: user 176 ms, sys: 19.8 ms, total: 196 ms\n",
      "Wall time: 26.7 s\n",
      "Running quantum circuit with params [ 0.69858973 -2.05043709 -0.40822961  1.68825338 -1.30674053 -2.23991043\n",
      " -2.97482954 -0.50932476 -1.61985113 -1.03648003]\n",
      "CPU times: user 213 ms, sys: 3.76 ms, total: 217 ms\n",
      "Wall time: 27 s\n",
      "Running quantum circuit with params [ 0.70547549 -2.03696325 -0.40562625  1.69124791 -1.33055742 -2.22562608\n",
      " -2.98509076 -0.50607669 -1.62871744 -1.0298702 ]\n",
      "CPU times: user 236 ms, sys: 27.2 ms, total: 263 ms\n",
      "Wall time: 26.5 s\n",
      "Running quantum circuit with params [ 0.70547549 -2.03696325 -0.40562625  1.69124791 -1.2984072  -2.22562608\n",
      " -2.98509076 -0.50607669 -1.62871744 -1.0553711 ]\n",
      "CPU times: user 229 ms, sys: 2.34 ms, total: 231 ms\n",
      "Wall time: 26.8 s\n",
      "Running quantum circuit with params [ 0.70547549 -2.03696325 -0.40562625  1.69124791 -1.2984072  -2.28073544\n",
      " -2.98509076 -0.50607669 -1.62871744 -1.0298702 ]\n",
      "CPU times: user 249 ms, sys: 11.3 ms, total: 260 ms\n",
      "Wall time: 27 s\n",
      "Running quantum circuit with params [ 0.70970421 -2.04943903 -0.40803677  1.70139887 -1.30612325 -2.23885233\n",
      " -2.91308219 -0.50908416 -1.62050789 -1.03599041]\n",
      "CPU times: user 197 ms, sys: 0 ns, total: 197 ms\n",
      "Wall time: 26.8 s\n",
      "Running quantum circuit with params [ 0.70805607 -2.04886514 -0.40792588  1.67274188 -1.30576831 -2.23824392\n",
      " -2.97602668 -0.50894582 -1.62088553 -1.03570888]\n",
      "CPU times: user 213 ms, sys: 7.96 ms, total: 221 ms\n",
      "Wall time: 26.9 s\n",
      "Running quantum circuit with params [ 0.70547549 -2.03696325 -0.40562625  1.69124791 -1.2984072  -2.22562608\n",
      " -2.98509076 -0.50607669 -1.62871744 -1.0298702 ]\n",
      "CPU times: user 227 ms, sys: 7.56 ms, total: 235 ms\n",
      "Wall time: 26.7 s\n",
      "Running quantum circuit with params [ 0.71456579 -2.02197768 -0.40715008  1.69414764 -1.30328498 -2.23398719\n",
      " -2.97908452 -0.50797789 -1.62352769 -1.03373915]\n",
      "CPU times: user 245 ms, sys: 18 ms, total: 263 ms\n",
      "Wall time: 26.7 s\n",
      "Running quantum circuit with params [ 0.70949809 -2.03245441 -0.41005821  1.69173305 -1.31259387 -2.18381253\n",
      " -2.96762205 -0.5116062  -1.61362344 -1.04112278]\n",
      "CPU times: user 244 ms, sys: 30.1 ms, total: 274 ms\n",
      "Wall time: 27.5 s\n",
      "Warning: Maximum number of iterations has been exceeded.\n"
     ]
    },
    {
     "data": {
      "text/plain": [
       " final_simplex: (array([[ 0.70616498, -1.99463045, -0.40949947,  1.69066982, -1.31080535,\n",
       "        -2.24687801, -2.96982434, -0.51090909, -1.61552634, -1.03970416],\n",
       "       [ 0.70547549, -2.03696325, -0.40562625,  1.69124791, -1.33055742,\n",
       "        -2.22562608, -2.98509076, -0.50607669, -1.62871744, -1.0298702 ],\n",
       "       [ 0.70547549, -2.03696325, -0.40562625,  1.69124791, -1.2984072 ,\n",
       "        -2.22562608, -2.98509076, -0.50607669, -1.62871744, -1.0298702 ],\n",
       "       [ 0.70899942, -2.04735973, -0.40763502,  1.69970704, -1.30483724,\n",
       "        -2.23664795, -3.00009254, -0.50858292, -1.58766972, -1.03497038],\n",
       "       [ 0.71456579, -2.02197768, -0.40715008,  1.69414764, -1.30328498,\n",
       "        -2.23398719, -2.97908452, -0.50797789, -1.62352769, -1.03373915],\n",
       "       [ 0.70970421, -2.04943903, -0.40803677,  1.70139887, -1.30612325,\n",
       "        -2.23885233, -2.91308219, -0.50908416, -1.62050789, -1.03599041],\n",
       "       [ 0.70547549, -2.03696325, -0.41567008,  1.69124791, -1.2984072 ,\n",
       "        -2.22562608, -2.98509076, -0.50607669, -1.62871744, -1.0298702 ],\n",
       "       [ 0.70949809, -2.03245441, -0.41005821,  1.69173305, -1.31259387,\n",
       "        -2.18381253, -2.96762205, -0.5116062 , -1.61362344, -1.04112278],\n",
       "       [ 0.70805607, -2.04886514, -0.40792588,  1.67274188, -1.30576831,\n",
       "        -2.23824392, -2.97602668, -0.50894582, -1.62088553, -1.03570888],\n",
       "       [ 0.70547549, -2.03696325, -0.40562625,  1.69124791, -1.2984072 ,\n",
       "        -2.22562608, -2.98509076, -0.5186078 , -1.62871744, -1.0298702 ],\n",
       "       [ 0.70547549, -2.03696325, -0.40562625,  1.69124791, -1.2984072 ,\n",
       "        -2.22562608, -2.98509076, -0.50607669, -1.62871744, -1.0553711 ]]), array([-0.39648438, -0.34765625, -0.33984375, -0.3125    , -0.28710938,\n",
       "       -0.28125   , -0.25585938, -0.25      , -0.24804688, -0.24023438,\n",
       "       -0.20507812]))\n",
       "           fun: -0.396484375\n",
       "       message: 'Maximum number of iterations has been exceeded.'\n",
       "          nfev: 34\n",
       "           nit: 10\n",
       "        status: 2\n",
       "       success: False\n",
       "             x: array([ 0.70616498, -1.99463045, -0.40949947,  1.69066982, -1.31080535,\n",
       "       -2.24687801, -2.96982434, -0.51090909, -1.61552634, -1.03970416])"
      ]
     },
     "execution_count": 23,
     "metadata": {},
     "output_type": "execute_result"
    }
   ],
   "source": [
    "np.random.seed(111)\n",
    "params = np.random.uniform(low=-np.pi, high=np.pi, size=(10,))\n",
    "find_minimum(params, 'Spin-2')"
   ]
  },
  {
   "cell_type": "markdown",
   "metadata": {},
   "source": [
    "## QX single-node simulator"
   ]
  },
  {
   "cell_type": "code",
   "execution_count": 12,
   "metadata": {},
   "outputs": [
    {
     "name": "stdout",
     "output_type": "stream",
     "text": [
      "Running quantum circuit with params [ 1.84702124  2.13986221  1.98050687  3.08476031  0.48552579  1.97145568\n",
      " -0.49437436 -2.96913204 -0.28816797 -2.47980934]\n"
     ]
    },
    {
     "name": "stderr",
     "output_type": "stream",
     "text": [
      "Your experiment can not be optimized and may take longer to execute, see https://www.quantum-inspire.com/kbase/optimization-of-simulations/ for details.\n",
      "Your experiment can not be optimized and may take longer to execute, see https://www.quantum-inspire.com/kbase/optimization-of-simulations/ for details.\n"
     ]
    },
    {
     "name": "stdout",
     "output_type": "stream",
     "text": [
      "CPU times: user 232 ms, sys: 25.8 ms, total: 258 ms\n",
      "Wall time: 27.2 s\n",
      "Running quantum circuit with params [ 1.9393723   2.13986221  1.98050687  3.08476031  0.48552579  1.97145568\n",
      " -0.49437436 -2.96913204 -0.28816797 -2.47980934]\n",
      "CPU times: user 195 ms, sys: 15.7 ms, total: 211 ms\n",
      "Wall time: 22.2 s\n"
     ]
    },
    {
     "ename": "RuntimeError",
     "evalue": "Result structure does not contain proper histogram data. Error occurred in simulation:\nb\"qx-simulator: ../nptl/pthread_mutex_lock.c:81: __pthread_mutex_cond_lock: Assertion `mutex->__data.__owner == 0' failed.\\n\"",
     "output_type": "error",
     "traceback": [
      "\u001b[0;31m---------------------------------------------------------------------------\u001b[0m",
      "\u001b[0;31mRuntimeError\u001b[0m                              Traceback (most recent call last)",
      "\u001b[0;32m<timed eval>\u001b[0m in \u001b[0;36m<module>\u001b[0;34m\u001b[0m\n",
      "\u001b[0;32m<ipython-input-8-81f6a20f328c>\u001b[0m in \u001b[0;36mfind_minimum\u001b[0;34m(params, backend)\u001b[0m\n\u001b[1;32m      3\u001b[0m \u001b[0;32mdef\u001b[0m \u001b[0mfind_minimum\u001b[0m\u001b[0;34m(\u001b[0m\u001b[0mparams\u001b[0m\u001b[0;34m,\u001b[0m \u001b[0mbackend\u001b[0m\u001b[0;34m)\u001b[0m\u001b[0;34m:\u001b[0m\u001b[0;34m\u001b[0m\u001b[0;34m\u001b[0m\u001b[0m\n\u001b[1;32m      4\u001b[0m     return minimize(lambda p: estimate_hamiltonian(p, backend=backend), params, method='nelder-mead',\n\u001b[0;32m----> 5\u001b[0;31m                     options={'xtol': 1e-12, 'disp': True, 'maxiter': 10})\n\u001b[0m\u001b[1;32m      6\u001b[0m \u001b[0;34m\u001b[0m\u001b[0m\n\u001b[1;32m      7\u001b[0m \u001b[0mnp\u001b[0m\u001b[0;34m.\u001b[0m\u001b[0mrandom\u001b[0m\u001b[0;34m.\u001b[0m\u001b[0mseed\u001b[0m\u001b[0;34m(\u001b[0m\u001b[0;36m111\u001b[0m\u001b[0;34m)\u001b[0m\u001b[0;34m\u001b[0m\u001b[0;34m\u001b[0m\u001b[0m\n",
      "\u001b[0;32m~/anaconda3/lib/python3.7/site-packages/scipy/optimize/_minimize.py\u001b[0m in \u001b[0;36mminimize\u001b[0;34m(fun, x0, args, method, jac, hess, hessp, bounds, constraints, tol, callback, options)\u001b[0m\n\u001b[1;32m    586\u001b[0m                       callback=callback, **options)\n\u001b[1;32m    587\u001b[0m     \u001b[0;32melif\u001b[0m \u001b[0mmeth\u001b[0m \u001b[0;34m==\u001b[0m \u001b[0;34m'nelder-mead'\u001b[0m\u001b[0;34m:\u001b[0m\u001b[0;34m\u001b[0m\u001b[0;34m\u001b[0m\u001b[0m\n\u001b[0;32m--> 588\u001b[0;31m         \u001b[0;32mreturn\u001b[0m \u001b[0m_minimize_neldermead\u001b[0m\u001b[0;34m(\u001b[0m\u001b[0mfun\u001b[0m\u001b[0;34m,\u001b[0m \u001b[0mx0\u001b[0m\u001b[0;34m,\u001b[0m \u001b[0margs\u001b[0m\u001b[0;34m,\u001b[0m \u001b[0mcallback\u001b[0m\u001b[0;34m,\u001b[0m \u001b[0;34m**\u001b[0m\u001b[0moptions\u001b[0m\u001b[0;34m)\u001b[0m\u001b[0;34m\u001b[0m\u001b[0;34m\u001b[0m\u001b[0m\n\u001b[0m\u001b[1;32m    589\u001b[0m     \u001b[0;32melif\u001b[0m \u001b[0mmeth\u001b[0m \u001b[0;34m==\u001b[0m \u001b[0;34m'powell'\u001b[0m\u001b[0;34m:\u001b[0m\u001b[0;34m\u001b[0m\u001b[0;34m\u001b[0m\u001b[0m\n\u001b[1;32m    590\u001b[0m         \u001b[0;32mreturn\u001b[0m \u001b[0m_minimize_powell\u001b[0m\u001b[0;34m(\u001b[0m\u001b[0mfun\u001b[0m\u001b[0;34m,\u001b[0m \u001b[0mx0\u001b[0m\u001b[0;34m,\u001b[0m \u001b[0margs\u001b[0m\u001b[0;34m,\u001b[0m \u001b[0mcallback\u001b[0m\u001b[0;34m,\u001b[0m \u001b[0;34m**\u001b[0m\u001b[0moptions\u001b[0m\u001b[0;34m)\u001b[0m\u001b[0;34m\u001b[0m\u001b[0;34m\u001b[0m\u001b[0m\n",
      "\u001b[0;32m~/anaconda3/lib/python3.7/site-packages/scipy/optimize/optimize.py\u001b[0m in \u001b[0;36m_minimize_neldermead\u001b[0;34m(func, x0, args, callback, maxiter, maxfev, disp, return_all, initial_simplex, xatol, fatol, adaptive, **unknown_options)\u001b[0m\n\u001b[1;32m    583\u001b[0m \u001b[0;34m\u001b[0m\u001b[0m\n\u001b[1;32m    584\u001b[0m     \u001b[0;32mfor\u001b[0m \u001b[0mk\u001b[0m \u001b[0;32min\u001b[0m \u001b[0mrange\u001b[0m\u001b[0;34m(\u001b[0m\u001b[0mN\u001b[0m \u001b[0;34m+\u001b[0m \u001b[0;36m1\u001b[0m\u001b[0;34m)\u001b[0m\u001b[0;34m:\u001b[0m\u001b[0;34m\u001b[0m\u001b[0;34m\u001b[0m\u001b[0m\n\u001b[0;32m--> 585\u001b[0;31m         \u001b[0mfsim\u001b[0m\u001b[0;34m[\u001b[0m\u001b[0mk\u001b[0m\u001b[0;34m]\u001b[0m \u001b[0;34m=\u001b[0m \u001b[0mfunc\u001b[0m\u001b[0;34m(\u001b[0m\u001b[0msim\u001b[0m\u001b[0;34m[\u001b[0m\u001b[0mk\u001b[0m\u001b[0;34m]\u001b[0m\u001b[0;34m)\u001b[0m\u001b[0;34m\u001b[0m\u001b[0;34m\u001b[0m\u001b[0m\n\u001b[0m\u001b[1;32m    586\u001b[0m \u001b[0;34m\u001b[0m\u001b[0m\n\u001b[1;32m    587\u001b[0m     \u001b[0mind\u001b[0m \u001b[0;34m=\u001b[0m \u001b[0mnumpy\u001b[0m\u001b[0;34m.\u001b[0m\u001b[0margsort\u001b[0m\u001b[0;34m(\u001b[0m\u001b[0mfsim\u001b[0m\u001b[0;34m)\u001b[0m\u001b[0;34m\u001b[0m\u001b[0;34m\u001b[0m\u001b[0m\n",
      "\u001b[0;32m~/anaconda3/lib/python3.7/site-packages/scipy/optimize/optimize.py\u001b[0m in \u001b[0;36mfunction_wrapper\u001b[0;34m(*wrapper_args)\u001b[0m\n\u001b[1;32m    324\u001b[0m     \u001b[0;32mdef\u001b[0m \u001b[0mfunction_wrapper\u001b[0m\u001b[0;34m(\u001b[0m\u001b[0;34m*\u001b[0m\u001b[0mwrapper_args\u001b[0m\u001b[0;34m)\u001b[0m\u001b[0;34m:\u001b[0m\u001b[0;34m\u001b[0m\u001b[0;34m\u001b[0m\u001b[0m\n\u001b[1;32m    325\u001b[0m         \u001b[0mncalls\u001b[0m\u001b[0;34m[\u001b[0m\u001b[0;36m0\u001b[0m\u001b[0;34m]\u001b[0m \u001b[0;34m+=\u001b[0m \u001b[0;36m1\u001b[0m\u001b[0;34m\u001b[0m\u001b[0;34m\u001b[0m\u001b[0m\n\u001b[0;32m--> 326\u001b[0;31m         \u001b[0;32mreturn\u001b[0m \u001b[0mfunction\u001b[0m\u001b[0;34m(\u001b[0m\u001b[0;34m*\u001b[0m\u001b[0;34m(\u001b[0m\u001b[0mwrapper_args\u001b[0m \u001b[0;34m+\u001b[0m \u001b[0margs\u001b[0m\u001b[0;34m)\u001b[0m\u001b[0;34m)\u001b[0m\u001b[0;34m\u001b[0m\u001b[0;34m\u001b[0m\u001b[0m\n\u001b[0m\u001b[1;32m    327\u001b[0m \u001b[0;34m\u001b[0m\u001b[0m\n\u001b[1;32m    328\u001b[0m     \u001b[0;32mreturn\u001b[0m \u001b[0mncalls\u001b[0m\u001b[0;34m,\u001b[0m \u001b[0mfunction_wrapper\u001b[0m\u001b[0;34m\u001b[0m\u001b[0;34m\u001b[0m\u001b[0m\n",
      "\u001b[0;32m<ipython-input-8-81f6a20f328c>\u001b[0m in \u001b[0;36m<lambda>\u001b[0;34m(p)\u001b[0m\n\u001b[1;32m      2\u001b[0m \u001b[0;34m\u001b[0m\u001b[0m\n\u001b[1;32m      3\u001b[0m \u001b[0;32mdef\u001b[0m \u001b[0mfind_minimum\u001b[0m\u001b[0;34m(\u001b[0m\u001b[0mparams\u001b[0m\u001b[0;34m,\u001b[0m \u001b[0mbackend\u001b[0m\u001b[0;34m)\u001b[0m\u001b[0;34m:\u001b[0m\u001b[0;34m\u001b[0m\u001b[0;34m\u001b[0m\u001b[0m\n\u001b[0;32m----> 4\u001b[0;31m     return minimize(lambda p: estimate_hamiltonian(p, backend=backend), params, method='nelder-mead',\n\u001b[0m\u001b[1;32m      5\u001b[0m                     options={'xtol': 1e-12, 'disp': True, 'maxiter': 10})\n\u001b[1;32m      6\u001b[0m \u001b[0;34m\u001b[0m\u001b[0m\n",
      "\u001b[0;32m<ipython-input-10-20cf41e2a8b5>\u001b[0m in \u001b[0;36mestimate_hamiltonian\u001b[0;34m(params, shots, backend)\u001b[0m\n\u001b[1;32m     40\u001b[0m     \u001b[0;32melse\u001b[0m\u001b[0;34m:\u001b[0m\u001b[0;34m\u001b[0m\u001b[0;34m\u001b[0m\u001b[0m\n\u001b[1;32m     41\u001b[0m         \u001b[0mreason\u001b[0m \u001b[0;34m=\u001b[0m \u001b[0mresult\u001b[0m\u001b[0;34m.\u001b[0m\u001b[0mget\u001b[0m\u001b[0;34m(\u001b[0m\u001b[0;34m'raw_text'\u001b[0m\u001b[0;34m,\u001b[0m \u001b[0;34m'No reason in result structure.'\u001b[0m\u001b[0;34m)\u001b[0m\u001b[0;34m\u001b[0m\u001b[0;34m\u001b[0m\u001b[0m\n\u001b[0;32m---> 42\u001b[0;31m         \u001b[0;32mraise\u001b[0m \u001b[0mRuntimeError\u001b[0m\u001b[0;34m(\u001b[0m\u001b[0;34mf'Result structure does not contain proper histogram data. {reason}'\u001b[0m\u001b[0;34m)\u001b[0m\u001b[0;34m\u001b[0m\u001b[0;34m\u001b[0m\u001b[0m\n\u001b[0m",
      "\u001b[0;31mRuntimeError\u001b[0m: Result structure does not contain proper histogram data. Error occurred in simulation:\nb\"qx-simulator: ../nptl/pthread_mutex_lock.c:81: __pthread_mutex_cond_lock: Assertion `mutex->__data.__owner == 0' failed.\\n\""
     ]
    }
   ],
   "source": [
    "np.random.seed(111)\n",
    "params = np.random.uniform(low=-np.pi, high=np.pi, size=(10,))\n",
    "%time find_minimum(params, 'QX single-node simulator')"
   ]
  },
  {
   "cell_type": "markdown",
   "metadata": {},
   "source": [
    "## QX single-node SurfSara"
   ]
  },
  {
   "cell_type": "code",
   "execution_count": 13,
   "metadata": {},
   "outputs": [
    {
     "name": "stdout",
     "output_type": "stream",
     "text": [
      "Running quantum circuit with params [ 1.99315243  1.24236     0.41020027 -1.41857174  3.1320029  -2.27424885\n",
      "  0.72517815 -0.09401969 -0.59673273  1.4316181 ]\n"
     ]
    },
    {
     "name": "stderr",
     "output_type": "stream",
     "text": [
      "Your experiment can not be optimized and may take longer to execute, see https://www.quantum-inspire.com/kbase/optimization-of-simulations/ for details.\n"
     ]
    },
    {
     "name": "stdout",
     "output_type": "stream",
     "text": [
      "CPU times: user 4.16 s, sys: 283 ms, total: 4.44 s\n",
      "Wall time: 8min 51s\n",
      "Running quantum circuit with params [ 2.09281005  1.24236     0.41020027 -1.41857174  3.1320029  -2.27424885\n",
      "  0.72517815 -0.09401969 -0.59673273  1.4316181 ]\n"
     ]
    },
    {
     "name": "stderr",
     "output_type": "stream",
     "text": [
      "Your experiment can not be optimized and may take longer to execute, see https://www.quantum-inspire.com/kbase/optimization-of-simulations/ for details.\n"
     ]
    },
    {
     "name": "stdout",
     "output_type": "stream",
     "text": [
      "CPU times: user 4.09 s, sys: 349 ms, total: 4.44 s\n",
      "Wall time: 8min 44s\n",
      "Running quantum circuit with params [ 1.99315243  1.304478    0.41020027 -1.41857174  3.1320029  -2.27424885\n",
      "  0.72517815 -0.09401969 -0.59673273  1.4316181 ]\n"
     ]
    },
    {
     "name": "stderr",
     "output_type": "stream",
     "text": [
      "Your experiment can not be optimized and may take longer to execute, see https://www.quantum-inspire.com/kbase/optimization-of-simulations/ for details.\n"
     ]
    },
    {
     "ename": "KeyboardInterrupt",
     "evalue": "",
     "output_type": "error",
     "traceback": [
      "\u001b[0;31m---------------------------------------------------------------------------\u001b[0m",
      "\u001b[0;31mKeyboardInterrupt\u001b[0m                         Traceback (most recent call last)",
      "\u001b[0;32m<timed eval>\u001b[0m in \u001b[0;36m<module>\u001b[0;34m\u001b[0m\n",
      "\u001b[0;32m~/anaconda3/lib/python3.7/site-packages/quantuminspire/api.py\u001b[0m in \u001b[0;36mexecute_qasm\u001b[0;34m(self, qasm, backend_type, number_of_shots, collect_tries, default_number_of_shots, identifier, full_state_projection)\u001b[0m\n\u001b[1;32m    853\u001b[0m                                                           full_state_projection=full_state_projection)\n\u001b[1;32m    854\u001b[0m \u001b[0;34m\u001b[0m\u001b[0m\n\u001b[0;32m--> 855\u001b[0;31m             \u001b[0mhas_results\u001b[0m\u001b[0;34m,\u001b[0m \u001b[0mmessage\u001b[0m \u001b[0;34m=\u001b[0m \u001b[0mself\u001b[0m\u001b[0;34m.\u001b[0m\u001b[0m_wait_for_completed_job\u001b[0m\u001b[0;34m(\u001b[0m\u001b[0mquantum_inspire_job\u001b[0m\u001b[0;34m,\u001b[0m \u001b[0mcollect_tries\u001b[0m\u001b[0;34m)\u001b[0m\u001b[0;34m\u001b[0m\u001b[0;34m\u001b[0m\u001b[0m\n\u001b[0m\u001b[1;32m    856\u001b[0m             \u001b[0;32mreturn\u001b[0m \u001b[0mOrderedDict\u001b[0m\u001b[0;34m(\u001b[0m\u001b[0mquantum_inspire_job\u001b[0m\u001b[0;34m.\u001b[0m\u001b[0mretrieve_results\u001b[0m\u001b[0;34m(\u001b[0m\u001b[0;34m)\u001b[0m\u001b[0;34m)\u001b[0m \u001b[0;32mif\u001b[0m \u001b[0mhas_results\u001b[0m \u001b[0;32melse\u001b[0m\u001b[0;31m \u001b[0m\u001b[0;31m\\\u001b[0m\u001b[0;34m\u001b[0m\u001b[0;34m\u001b[0m\u001b[0m\n\u001b[1;32m    857\u001b[0m                 \u001b[0mOrderedDict\u001b[0m\u001b[0;34m(\u001b[0m\u001b[0mself\u001b[0m\u001b[0;34m.\u001b[0m\u001b[0m_generate_error_result\u001b[0m\u001b[0;34m(\u001b[0m\u001b[0mmessage\u001b[0m\u001b[0;34m)\u001b[0m\u001b[0;34m)\u001b[0m\u001b[0;34m\u001b[0m\u001b[0;34m\u001b[0m\u001b[0m\n",
      "\u001b[0;32m~/anaconda3/lib/python3.7/site-packages/quantuminspire/api.py\u001b[0m in \u001b[0;36m_wait_for_completed_job\u001b[0;34m(quantum_inspire_job, collect_max_tries, sec_retry_delay)\u001b[0m\n\u001b[1;32m    787\u001b[0m         \u001b[0mattempts\u001b[0m \u001b[0;34m=\u001b[0m \u001b[0mitertools\u001b[0m\u001b[0;34m.\u001b[0m\u001b[0mcount\u001b[0m\u001b[0;34m(\u001b[0m\u001b[0;34m)\u001b[0m \u001b[0;32mif\u001b[0m \u001b[0mcollect_max_tries\u001b[0m \u001b[0;32mis\u001b[0m \u001b[0;32mNone\u001b[0m \u001b[0;32melse\u001b[0m \u001b[0mrange\u001b[0m\u001b[0;34m(\u001b[0m\u001b[0mcollect_max_tries\u001b[0m\u001b[0;34m)\u001b[0m\u001b[0;34m\u001b[0m\u001b[0;34m\u001b[0m\u001b[0m\n\u001b[1;32m    788\u001b[0m         \u001b[0;32mfor\u001b[0m \u001b[0m_\u001b[0m \u001b[0;32min\u001b[0m \u001b[0mattempts\u001b[0m\u001b[0;34m:\u001b[0m\u001b[0;34m\u001b[0m\u001b[0;34m\u001b[0m\u001b[0m\n\u001b[0;32m--> 789\u001b[0;31m             \u001b[0mtime\u001b[0m\u001b[0;34m.\u001b[0m\u001b[0msleep\u001b[0m\u001b[0;34m(\u001b[0m\u001b[0msec_retry_delay\u001b[0m\u001b[0;34m)\u001b[0m\u001b[0;34m\u001b[0m\u001b[0;34m\u001b[0m\u001b[0m\n\u001b[0m\u001b[1;32m    790\u001b[0m             \u001b[0mstatus\u001b[0m \u001b[0;34m=\u001b[0m \u001b[0mquantum_inspire_job\u001b[0m\u001b[0;34m.\u001b[0m\u001b[0mcheck_status\u001b[0m\u001b[0;34m(\u001b[0m\u001b[0;34m)\u001b[0m\u001b[0;34m\u001b[0m\u001b[0;34m\u001b[0m\u001b[0m\n\u001b[1;32m    791\u001b[0m             \u001b[0;32mif\u001b[0m \u001b[0mstatus\u001b[0m \u001b[0;34m==\u001b[0m \u001b[0;34m'COMPLETE'\u001b[0m\u001b[0;34m:\u001b[0m\u001b[0;34m\u001b[0m\u001b[0;34m\u001b[0m\u001b[0m\n",
      "\u001b[0;31mKeyboardInterrupt\u001b[0m: "
     ]
    },
    {
     "ename": "AttributeError",
     "evalue": "'NoneType' object has no attribute 'get'",
     "output_type": "error",
     "traceback": [
      "\u001b[0;31m---------------------------------------------------------------------------\u001b[0m",
      "\u001b[0;31mAttributeError\u001b[0m                            Traceback (most recent call last)",
      "\u001b[0;32m<timed eval>\u001b[0m in \u001b[0;36m<module>\u001b[0;34m\u001b[0m\n",
      "\u001b[0;32m<ipython-input-8-81f6a20f328c>\u001b[0m in \u001b[0;36mfind_minimum\u001b[0;34m(params, backend)\u001b[0m\n\u001b[1;32m      3\u001b[0m \u001b[0;32mdef\u001b[0m \u001b[0mfind_minimum\u001b[0m\u001b[0;34m(\u001b[0m\u001b[0mparams\u001b[0m\u001b[0;34m,\u001b[0m \u001b[0mbackend\u001b[0m\u001b[0;34m)\u001b[0m\u001b[0;34m:\u001b[0m\u001b[0;34m\u001b[0m\u001b[0;34m\u001b[0m\u001b[0m\n\u001b[1;32m      4\u001b[0m     return minimize(lambda p: estimate_hamiltonian(p, backend=backend), params, method='nelder-mead',\n\u001b[0;32m----> 5\u001b[0;31m                     options={'xtol': 1e-12, 'disp': True, 'maxiter': 10})\n\u001b[0m\u001b[1;32m      6\u001b[0m \u001b[0;34m\u001b[0m\u001b[0m\n\u001b[1;32m      7\u001b[0m \u001b[0mnp\u001b[0m\u001b[0;34m.\u001b[0m\u001b[0mrandom\u001b[0m\u001b[0;34m.\u001b[0m\u001b[0mseed\u001b[0m\u001b[0;34m(\u001b[0m\u001b[0;36m111\u001b[0m\u001b[0;34m)\u001b[0m\u001b[0;34m\u001b[0m\u001b[0;34m\u001b[0m\u001b[0m\n",
      "\u001b[0;32m~/anaconda3/lib/python3.7/site-packages/scipy/optimize/_minimize.py\u001b[0m in \u001b[0;36mminimize\u001b[0;34m(fun, x0, args, method, jac, hess, hessp, bounds, constraints, tol, callback, options)\u001b[0m\n\u001b[1;32m    586\u001b[0m                       callback=callback, **options)\n\u001b[1;32m    587\u001b[0m     \u001b[0;32melif\u001b[0m \u001b[0mmeth\u001b[0m \u001b[0;34m==\u001b[0m \u001b[0;34m'nelder-mead'\u001b[0m\u001b[0;34m:\u001b[0m\u001b[0;34m\u001b[0m\u001b[0;34m\u001b[0m\u001b[0m\n\u001b[0;32m--> 588\u001b[0;31m         \u001b[0;32mreturn\u001b[0m \u001b[0m_minimize_neldermead\u001b[0m\u001b[0;34m(\u001b[0m\u001b[0mfun\u001b[0m\u001b[0;34m,\u001b[0m \u001b[0mx0\u001b[0m\u001b[0;34m,\u001b[0m \u001b[0margs\u001b[0m\u001b[0;34m,\u001b[0m \u001b[0mcallback\u001b[0m\u001b[0;34m,\u001b[0m \u001b[0;34m**\u001b[0m\u001b[0moptions\u001b[0m\u001b[0;34m)\u001b[0m\u001b[0;34m\u001b[0m\u001b[0;34m\u001b[0m\u001b[0m\n\u001b[0m\u001b[1;32m    589\u001b[0m     \u001b[0;32melif\u001b[0m \u001b[0mmeth\u001b[0m \u001b[0;34m==\u001b[0m \u001b[0;34m'powell'\u001b[0m\u001b[0;34m:\u001b[0m\u001b[0;34m\u001b[0m\u001b[0;34m\u001b[0m\u001b[0m\n\u001b[1;32m    590\u001b[0m         \u001b[0;32mreturn\u001b[0m \u001b[0m_minimize_powell\u001b[0m\u001b[0;34m(\u001b[0m\u001b[0mfun\u001b[0m\u001b[0;34m,\u001b[0m \u001b[0mx0\u001b[0m\u001b[0;34m,\u001b[0m \u001b[0margs\u001b[0m\u001b[0;34m,\u001b[0m \u001b[0mcallback\u001b[0m\u001b[0;34m,\u001b[0m \u001b[0;34m**\u001b[0m\u001b[0moptions\u001b[0m\u001b[0;34m)\u001b[0m\u001b[0;34m\u001b[0m\u001b[0;34m\u001b[0m\u001b[0m\n",
      "\u001b[0;32m~/anaconda3/lib/python3.7/site-packages/scipy/optimize/optimize.py\u001b[0m in \u001b[0;36m_minimize_neldermead\u001b[0;34m(func, x0, args, callback, maxiter, maxfev, disp, return_all, initial_simplex, xatol, fatol, adaptive, **unknown_options)\u001b[0m\n\u001b[1;32m    583\u001b[0m \u001b[0;34m\u001b[0m\u001b[0m\n\u001b[1;32m    584\u001b[0m     \u001b[0;32mfor\u001b[0m \u001b[0mk\u001b[0m \u001b[0;32min\u001b[0m \u001b[0mrange\u001b[0m\u001b[0;34m(\u001b[0m\u001b[0mN\u001b[0m \u001b[0;34m+\u001b[0m \u001b[0;36m1\u001b[0m\u001b[0;34m)\u001b[0m\u001b[0;34m:\u001b[0m\u001b[0;34m\u001b[0m\u001b[0;34m\u001b[0m\u001b[0m\n\u001b[0;32m--> 585\u001b[0;31m         \u001b[0mfsim\u001b[0m\u001b[0;34m[\u001b[0m\u001b[0mk\u001b[0m\u001b[0;34m]\u001b[0m \u001b[0;34m=\u001b[0m \u001b[0mfunc\u001b[0m\u001b[0;34m(\u001b[0m\u001b[0msim\u001b[0m\u001b[0;34m[\u001b[0m\u001b[0mk\u001b[0m\u001b[0;34m]\u001b[0m\u001b[0;34m)\u001b[0m\u001b[0;34m\u001b[0m\u001b[0;34m\u001b[0m\u001b[0m\n\u001b[0m\u001b[1;32m    586\u001b[0m \u001b[0;34m\u001b[0m\u001b[0m\n\u001b[1;32m    587\u001b[0m     \u001b[0mind\u001b[0m \u001b[0;34m=\u001b[0m \u001b[0mnumpy\u001b[0m\u001b[0;34m.\u001b[0m\u001b[0margsort\u001b[0m\u001b[0;34m(\u001b[0m\u001b[0mfsim\u001b[0m\u001b[0;34m)\u001b[0m\u001b[0;34m\u001b[0m\u001b[0;34m\u001b[0m\u001b[0m\n",
      "\u001b[0;32m~/anaconda3/lib/python3.7/site-packages/scipy/optimize/optimize.py\u001b[0m in \u001b[0;36mfunction_wrapper\u001b[0;34m(*wrapper_args)\u001b[0m\n\u001b[1;32m    324\u001b[0m     \u001b[0;32mdef\u001b[0m \u001b[0mfunction_wrapper\u001b[0m\u001b[0;34m(\u001b[0m\u001b[0;34m*\u001b[0m\u001b[0mwrapper_args\u001b[0m\u001b[0;34m)\u001b[0m\u001b[0;34m:\u001b[0m\u001b[0;34m\u001b[0m\u001b[0;34m\u001b[0m\u001b[0m\n\u001b[1;32m    325\u001b[0m         \u001b[0mncalls\u001b[0m\u001b[0;34m[\u001b[0m\u001b[0;36m0\u001b[0m\u001b[0;34m]\u001b[0m \u001b[0;34m+=\u001b[0m \u001b[0;36m1\u001b[0m\u001b[0;34m\u001b[0m\u001b[0;34m\u001b[0m\u001b[0m\n\u001b[0;32m--> 326\u001b[0;31m         \u001b[0;32mreturn\u001b[0m \u001b[0mfunction\u001b[0m\u001b[0;34m(\u001b[0m\u001b[0;34m*\u001b[0m\u001b[0;34m(\u001b[0m\u001b[0mwrapper_args\u001b[0m \u001b[0;34m+\u001b[0m \u001b[0margs\u001b[0m\u001b[0;34m)\u001b[0m\u001b[0;34m)\u001b[0m\u001b[0;34m\u001b[0m\u001b[0;34m\u001b[0m\u001b[0m\n\u001b[0m\u001b[1;32m    327\u001b[0m \u001b[0;34m\u001b[0m\u001b[0m\n\u001b[1;32m    328\u001b[0m     \u001b[0;32mreturn\u001b[0m \u001b[0mncalls\u001b[0m\u001b[0;34m,\u001b[0m \u001b[0mfunction_wrapper\u001b[0m\u001b[0;34m\u001b[0m\u001b[0;34m\u001b[0m\u001b[0m\n",
      "\u001b[0;32m<ipython-input-8-81f6a20f328c>\u001b[0m in \u001b[0;36m<lambda>\u001b[0;34m(p)\u001b[0m\n\u001b[1;32m      2\u001b[0m \u001b[0;34m\u001b[0m\u001b[0m\n\u001b[1;32m      3\u001b[0m \u001b[0;32mdef\u001b[0m \u001b[0mfind_minimum\u001b[0m\u001b[0;34m(\u001b[0m\u001b[0mparams\u001b[0m\u001b[0;34m,\u001b[0m \u001b[0mbackend\u001b[0m\u001b[0;34m)\u001b[0m\u001b[0;34m:\u001b[0m\u001b[0;34m\u001b[0m\u001b[0;34m\u001b[0m\u001b[0m\n\u001b[0;32m----> 4\u001b[0;31m     return minimize(lambda p: estimate_hamiltonian(p, backend=backend), params, method='nelder-mead',\n\u001b[0m\u001b[1;32m      5\u001b[0m                     options={'xtol': 1e-12, 'disp': True, 'maxiter': 10})\n\u001b[1;32m      6\u001b[0m \u001b[0;34m\u001b[0m\u001b[0m\n",
      "\u001b[0;32m<ipython-input-10-20cf41e2a8b5>\u001b[0m in \u001b[0;36mestimate_hamiltonian\u001b[0;34m(params, shots, backend)\u001b[0m\n\u001b[1;32m     34\u001b[0m     \u001b[0mresult\u001b[0m \u001b[0;34m=\u001b[0m \u001b[0mget_ipython\u001b[0m\u001b[0;34m(\u001b[0m\u001b[0;34m)\u001b[0m\u001b[0;34m.\u001b[0m\u001b[0mrun_line_magic\u001b[0m\u001b[0;34m(\u001b[0m\u001b[0;34m'time'\u001b[0m\u001b[0;34m,\u001b[0m \u001b[0;34m'qi.execute_qasm(qasm, backend_type=backend_type, number_of_shots=shots)'\u001b[0m\u001b[0;34m)\u001b[0m\u001b[0;34m\u001b[0m\u001b[0;34m\u001b[0m\u001b[0m\n\u001b[1;32m     35\u001b[0m \u001b[0;34m\u001b[0m\u001b[0m\n\u001b[0;32m---> 36\u001b[0;31m     \u001b[0;32mif\u001b[0m \u001b[0mresult\u001b[0m\u001b[0;34m.\u001b[0m\u001b[0mget\u001b[0m\u001b[0;34m(\u001b[0m\u001b[0;34m'histogram'\u001b[0m\u001b[0;34m,\u001b[0m \u001b[0;34m{\u001b[0m\u001b[0;34m}\u001b[0m\u001b[0;34m)\u001b[0m\u001b[0;34m:\u001b[0m\u001b[0;34m\u001b[0m\u001b[0;34m\u001b[0m\u001b[0m\n\u001b[0m\u001b[1;32m     37\u001b[0m         \u001b[0mhist\u001b[0m \u001b[0;34m=\u001b[0m \u001b[0mresult\u001b[0m\u001b[0;34m[\u001b[0m\u001b[0;34m'histogram'\u001b[0m\u001b[0;34m]\u001b[0m\u001b[0;34m\u001b[0m\u001b[0;34m\u001b[0m\u001b[0m\n\u001b[1;32m     38\u001b[0m         \u001b[0mexpval\u001b[0m \u001b[0;34m=\u001b[0m \u001b[0mhist\u001b[0m\u001b[0;34m.\u001b[0m\u001b[0mget\u001b[0m\u001b[0;34m(\u001b[0m\u001b[0;34m'0'\u001b[0m\u001b[0;34m)\u001b[0m \u001b[0;34m+\u001b[0m \u001b[0mhist\u001b[0m\u001b[0;34m.\u001b[0m\u001b[0mget\u001b[0m\u001b[0;34m(\u001b[0m\u001b[0;34m'1'\u001b[0m\u001b[0;34m)\u001b[0m \u001b[0;34m-\u001b[0m \u001b[0mhist\u001b[0m\u001b[0;34m.\u001b[0m\u001b[0mget\u001b[0m\u001b[0;34m(\u001b[0m\u001b[0;34m'2'\u001b[0m\u001b[0;34m)\u001b[0m \u001b[0;34m-\u001b[0m \u001b[0mhist\u001b[0m\u001b[0;34m.\u001b[0m\u001b[0mget\u001b[0m\u001b[0;34m(\u001b[0m\u001b[0;34m'3'\u001b[0m\u001b[0;34m)\u001b[0m\u001b[0;34m\u001b[0m\u001b[0;34m\u001b[0m\u001b[0m\n",
      "\u001b[0;31mAttributeError\u001b[0m: 'NoneType' object has no attribute 'get'"
     ]
    }
   ],
   "source": [
    "np.random.seed(111)\n",
    "params = np.random.uniform(low=-np.pi, high=np.pi, size=(10,))\n",
    "%time find_minimum(params, 'QX single-node simulator SurfSara')"
   ]
  }
 ],
 "metadata": {
  "kernelspec": {
   "display_name": "Python 3",
   "language": "python",
   "name": "python3"
  },
  "language_info": {
   "codemirror_mode": {
    "name": "ipython",
    "version": 3
   },
   "file_extension": ".py",
   "mimetype": "text/x-python",
   "name": "python",
   "nbconvert_exporter": "python",
   "pygments_lexer": "ipython3",
   "version": "3.7.1"
  }
 },
 "nbformat": 4,
 "nbformat_minor": 2
}
