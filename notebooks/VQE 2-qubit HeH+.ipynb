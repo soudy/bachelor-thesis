{
 "cells": [
  {
   "cell_type": "markdown",
   "metadata": {},
   "source": [
    "This encodes the Hamiltonian of the helium hydride molecule HeH$^+$. The energy $\\langle H \\rangle$ is measured as follows:\n",
    "$$\n",
    "\\langle H \\rangle = p(00) + p(01) - p(10) - p(11).\n",
    "$$\n",
    "The lowest energy state is then found using a loop of quantum circuit executions and classical optimization."
   ]
  },
  {
   "cell_type": "code",
   "execution_count": 24,
   "metadata": {},
   "outputs": [],
   "source": [
    "import numpy as np\n",
    "\n",
    "from quantuminspire.credentials import enable_account, get_token_authentication\n",
    "from quantuminspire.api import QuantumInspireAPI\n",
    "\n",
    "SEED = 0xbeef\n",
    "\n",
    "enable_account('6ea0bc8530ed4c97073aff535b5b52fd617cc6ed')\n",
    "auth = get_token_authentication()\n",
    "server_url = r'https://api.quantum-inspire.com'\n",
    "qi = QuantumInspireAPI(server_url, auth)\n",
    "\n",
    "def estimate_hamiltonian(params, shots=1024, backend='QX single-node simulator'):\n",
    "    print(f'Running quantum circuit with params {params}')\n",
    "    \n",
    "    qasm = f'''version 1.0\n",
    "qubits 2\n",
    "\n",
    ".ansatz\n",
    "{{Rx q[0], {params[0]} | Rx q[1], {params[1]}}}\n",
    "{{Rz q[0], {params[2]} | Rz q[1], {params[3]}}}\n",
    "\n",
    "H q[0]\n",
    "CNOT q[0], q[1]\n",
    "H q[1]\n",
    "CNOT q[1], q[0]\n",
    "\n",
    "{{Rz q[0], {params[4]} | Rz q[1], {params[5]}}}\n",
    "{{Rx q[0], {params[6]} | Rx q[1], {params[7]}}}\n",
    "{{Rz q[0], {params[8]} | Rz q[1], {params[9]}}}\n",
    "\n",
    ".measurement\n",
    "measure_all\n",
    "'''\n",
    "    backend_type = qi.get_backend_type_by_name(backend)\n",
    "    result = %time qi.execute_qasm(qasm, backend_type=backend_type, number_of_shots=shots)\n",
    "    \n",
    "    if result.get('histogram', {}):\n",
    "        hist = result['histogram']\n",
    "        expval = hist.get('0') + hist.get('1') - hist.get('2') - hist.get('3')\n",
    "        return expval\n",
    "    else:\n",
    "        reason = result.get('raw_text', 'No reason in result structure.')\n",
    "        raise RuntimeError(f'Result structure does not contain proper histogram data. {reason}')"
   ]
  },
  {
   "cell_type": "code",
   "execution_count": 25,
   "metadata": {},
   "outputs": [],
   "source": [
    "from scipy.optimize import minimize\n",
    "\n",
    "def find_minimum(params, backend):\n",
    "    return minimize(lambda p: estimate_hamiltonian(p, backend=backend), params, method='nelder-mead',\n",
    "                    options={'xtol': 1e-12, 'disp': True, 'maxiter': 10})"
   ]
  },
  {
   "cell_type": "markdown",
   "metadata": {},
   "source": [
    "## Spin-2 back-end"
   ]
  },
  {
   "cell_type": "code",
   "execution_count": 26,
   "metadata": {},
   "outputs": [
    {
     "name": "stdout",
     "output_type": "stream",
     "text": [
      "Running quantum circuit with params [ 0.82529653  1.58317926 -0.62257225 -2.7976498  -2.5527445  -0.54502968\n",
      "  2.19602218 -0.99126826  0.88024056 -0.43346593]\n",
      "CPU times: user 216 ms, sys: 9.31 ms, total: 226 ms\n",
      "Wall time: 28.5 s\n",
      "Running quantum circuit with params [ 0.86656135  1.58317926 -0.62257225 -2.7976498  -2.5527445  -0.54502968\n",
      "  2.19602218 -0.99126826  0.88024056 -0.43346593]\n",
      "CPU times: user 225 ms, sys: 27.2 ms, total: 252 ms\n",
      "Wall time: 27 s\n",
      "Running quantum circuit with params [ 0.82529653  1.66233823 -0.62257225 -2.7976498  -2.5527445  -0.54502968\n",
      "  2.19602218 -0.99126826  0.88024056 -0.43346593]\n",
      "CPU times: user 206 ms, sys: 5.49 ms, total: 212 ms\n",
      "Wall time: 26.9 s\n",
      "Running quantum circuit with params [ 0.82529653  1.58317926 -0.65370086 -2.7976498  -2.5527445  -0.54502968\n",
      "  2.19602218 -0.99126826  0.88024056 -0.43346593]\n",
      "CPU times: user 188 ms, sys: 22.7 ms, total: 211 ms\n",
      "Wall time: 26.3 s\n",
      "Running quantum circuit with params [ 0.82529653  1.58317926 -0.62257225 -2.93753229 -2.5527445  -0.54502968\n",
      "  2.19602218 -0.99126826  0.88024056 -0.43346593]\n",
      "CPU times: user 218 ms, sys: 10.8 ms, total: 229 ms\n",
      "Wall time: 27.3 s\n",
      "Running quantum circuit with params [ 0.82529653  1.58317926 -0.62257225 -2.7976498  -2.68038173 -0.54502968\n",
      "  2.19602218 -0.99126826  0.88024056 -0.43346593]\n",
      "CPU times: user 223 ms, sys: 17.6 ms, total: 240 ms\n",
      "Wall time: 26.6 s\n",
      "Running quantum circuit with params [ 0.82529653  1.58317926 -0.62257225 -2.7976498  -2.5527445  -0.57228117\n",
      "  2.19602218 -0.99126826  0.88024056 -0.43346593]\n",
      "CPU times: user 216 ms, sys: 11.4 ms, total: 227 ms\n",
      "Wall time: 26.9 s\n",
      "Running quantum circuit with params [ 0.82529653  1.58317926 -0.62257225 -2.7976498  -2.5527445  -0.54502968\n",
      "  2.30582329 -0.99126826  0.88024056 -0.43346593]\n",
      "CPU times: user 228 ms, sys: 3.9 ms, total: 232 ms\n",
      "Wall time: 26.9 s\n",
      "Running quantum circuit with params [ 0.82529653  1.58317926 -0.62257225 -2.7976498  -2.5527445  -0.54502968\n",
      "  2.19602218 -1.04083168  0.88024056 -0.43346593]\n",
      "CPU times: user 211 ms, sys: 23 ms, total: 234 ms\n",
      "Wall time: 27 s\n",
      "Running quantum circuit with params [ 0.82529653  1.58317926 -0.62257225 -2.7976498  -2.5527445  -0.54502968\n",
      "  2.19602218 -0.99126826  0.92425258 -0.43346593]\n",
      "CPU times: user 177 ms, sys: 17.8 ms, total: 194 ms\n",
      "Wall time: 27.3 s\n",
      "Running quantum circuit with params [ 0.82529653  1.58317926 -0.62257225 -2.7976498  -2.5527445  -0.54502968\n",
      "  2.19602218 -0.99126826  0.88024056 -0.45513922]\n",
      "CPU times: user 204 ms, sys: 9.61 ms, total: 214 ms\n",
      "Wall time: 26.8 s\n",
      "Running quantum circuit with params [ 0.83354949  1.59901106 -0.62879797 -2.82562629 -2.42510728 -0.55047998\n",
      "  2.21798241 -1.00118095  0.88904296 -0.43780059]\n",
      "CPU times: user 170 ms, sys: 18.5 ms, total: 189 ms\n",
      "Wall time: 26.7 s\n",
      "Running quantum circuit with params [ 0.83520008  1.60217742 -0.63004311 -2.83122159 -2.52721706 -0.55157004\n",
      "  2.22237445 -1.00316348  0.89080344 -0.41265956]\n",
      "CPU times: user 226 ms, sys: 13 ms, total: 239 ms\n",
      "Wall time: 26.9 s\n",
      "Running quantum circuit with params [ 0.8371808   1.60597705 -0.63153729 -2.67007697 -2.52211157 -0.55287811\n",
      "  2.2276449  -1.00554253  0.89291602 -0.43017159]\n",
      "CPU times: user 181 ms, sys: 8.16 ms, total: 189 ms\n",
      "Wall time: 26.8 s\n",
      "Running quantum circuit with params [ 0.82767338  1.58773882 -0.62436526 -2.74415873 -2.54661792 -0.54659937\n",
      "  2.20234673 -0.99412312  0.88277565 -0.45448036]\n",
      "CPU times: user 238 ms, sys: 15.2 ms, total: 253 ms\n",
      "Wall time: 27.5 s\n",
      "Running quantum circuit with params [ 0.83805231  1.60764888 -0.63219472 -2.76703232 -2.51986515 -0.55345366\n",
      "  2.2299639  -1.00658931  0.84103112 -0.43787688]\n",
      "CPU times: user 191 ms, sys: 13.6 ms, total: 205 ms\n",
      "Wall time: 26.7 s\n",
      "Running quantum circuit with params [ 0.84060346  1.61254281 -0.63411922 -2.76090882 -2.51328928 -0.55513846\n",
      "  2.10499092 -1.00965352  0.87720126 -0.43875907]\n",
      "CPU times: user 194 ms, sys: 3.06 ms, total: 197 ms\n",
      "Wall time: 27.3 s\n",
      "Running quantum circuit with params [ 0.83376129  1.59941736 -0.62895775 -2.71998883 -2.65856291 -0.55061986\n",
      "  2.17023351 -1.00143535  0.86603052 -0.4346161 ]\n",
      "CPU times: user 200 ms, sys: 15.4 ms, total: 215 ms\n",
      "Wall time: 26.8 s\n",
      "Running quantum circuit with params [ 0.84370721  1.61849678 -0.59910623 -2.73243313 -2.55208937 -0.55718819\n",
      "  2.18703599 -1.01338145  0.87199091 -0.4391808 ]\n",
      "CPU times: user 195 ms, sys: 11.8 ms, total: 207 ms\n",
      "Wall time: 26.8 s\n",
      "Running quantum circuit with params [ 0.84453713  1.62008881 -0.62339003 -2.78357908 -2.55931024 -0.55773627\n",
      "  2.1776493  -1.01437826  0.86729887 -0.41510646]\n",
      "CPU times: user 240 ms, sys: 10.1 ms, total: 250 ms\n",
      "Wall time: 26.9 s\n",
      "Warning: Maximum number of iterations has been exceeded.\n"
     ]
    },
    {
     "data": {
      "text/plain": [
       " final_simplex: (array([[ 0.82529653,  1.58317926, -0.62257225, -2.7976498 , -2.5527445 ,\n",
       "        -0.57228117,  2.19602218, -0.99126826,  0.88024056, -0.43346593],\n",
       "       [ 0.83805231,  1.60764888, -0.63219472, -2.76703232, -2.51986515,\n",
       "        -0.55345366,  2.2299639 , -1.00658931,  0.84103112, -0.43787688],\n",
       "       [ 0.8371808 ,  1.60597705, -0.63153729, -2.67007697, -2.52211157,\n",
       "        -0.55287811,  2.2276449 , -1.00554253,  0.89291602, -0.43017159],\n",
       "       [ 0.84370721,  1.61849678, -0.59910623, -2.73243313, -2.55208937,\n",
       "        -0.55718819,  2.18703599, -1.01338145,  0.87199091, -0.4391808 ],\n",
       "       [ 0.83376129,  1.59941736, -0.62895775, -2.71998883, -2.65856291,\n",
       "        -0.55061986,  2.17023351, -1.00143535,  0.86603052, -0.4346161 ],\n",
       "       [ 0.86656135,  1.58317926, -0.62257225, -2.7976498 , -2.5527445 ,\n",
       "        -0.54502968,  2.19602218, -0.99126826,  0.88024056, -0.43346593],\n",
       "       [ 0.84453713,  1.62008881, -0.62339003, -2.78357908, -2.55931024,\n",
       "        -0.55773627,  2.1776493 , -1.01437826,  0.86729887, -0.41510646],\n",
       "       [ 0.82529653,  1.58317926, -0.62257225, -2.7976498 , -2.5527445 ,\n",
       "        -0.54502968,  2.19602218, -0.99126826,  0.88024056, -0.43346593],\n",
       "       [ 0.84060346,  1.61254281, -0.63411922, -2.76090882, -2.51328928,\n",
       "        -0.55513846,  2.10499092, -1.00965352,  0.87720126, -0.43875907],\n",
       "       [ 0.82529653,  1.58317926, -0.62257225, -2.7976498 , -2.5527445 ,\n",
       "        -0.54502968,  2.19602218, -1.04083168,  0.88024056, -0.43346593],\n",
       "       [ 0.82529653,  1.66233823, -0.62257225, -2.7976498 , -2.5527445 ,\n",
       "        -0.54502968,  2.19602218, -0.99126826,  0.88024056, -0.43346593]]), array([-0.26757812, -0.25976562, -0.25585938, -0.25390625, -0.23632812,\n",
       "       -0.22070312, -0.21875   , -0.21484375, -0.20703125, -0.203125  ,\n",
       "       -0.20117188]))\n",
       "           fun: -0.267578125\n",
       "       message: 'Maximum number of iterations has been exceeded.'\n",
       "          nfev: 20\n",
       "           nit: 10\n",
       "        status: 2\n",
       "       success: False\n",
       "             x: array([ 0.82529653,  1.58317926, -0.62257225, -2.7976498 , -2.5527445 ,\n",
       "       -0.57228117,  2.19602218, -0.99126826,  0.88024056, -0.43346593])"
      ]
     },
     "execution_count": 26,
     "metadata": {},
     "output_type": "execute_result"
    }
   ],
   "source": [
    "np.random.seed(SEED)\n",
    "params = np.random.uniform(low=-np.pi, high=np.pi, size=(10,))\n",
    "find_minimum(params, 'Spin-2')"
   ]
  },
  {
   "cell_type": "markdown",
   "metadata": {},
   "source": [
    "## QX single-node simulator"
   ]
  },
  {
   "cell_type": "code",
   "execution_count": 12,
   "metadata": {},
   "outputs": [
    {
     "name": "stdout",
     "output_type": "stream",
     "text": [
      "Running quantum circuit with params [ 1.84702124  2.13986221  1.98050687  3.08476031  0.48552579  1.97145568\n",
      " -0.49437436 -2.96913204 -0.28816797 -2.47980934]\n"
     ]
    },
    {
     "name": "stderr",
     "output_type": "stream",
     "text": [
      "Your experiment can not be optimized and may take longer to execute, see https://www.quantum-inspire.com/kbase/optimization-of-simulations/ for details.\n",
      "Your experiment can not be optimized and may take longer to execute, see https://www.quantum-inspire.com/kbase/optimization-of-simulations/ for details.\n"
     ]
    },
    {
     "name": "stdout",
     "output_type": "stream",
     "text": [
      "CPU times: user 232 ms, sys: 25.8 ms, total: 258 ms\n",
      "Wall time: 27.2 s\n",
      "Running quantum circuit with params [ 1.9393723   2.13986221  1.98050687  3.08476031  0.48552579  1.97145568\n",
      " -0.49437436 -2.96913204 -0.28816797 -2.47980934]\n",
      "CPU times: user 195 ms, sys: 15.7 ms, total: 211 ms\n",
      "Wall time: 22.2 s\n"
     ]
    },
    {
     "ename": "RuntimeError",
     "evalue": "Result structure does not contain proper histogram data. Error occurred in simulation:\nb\"qx-simulator: ../nptl/pthread_mutex_lock.c:81: __pthread_mutex_cond_lock: Assertion `mutex->__data.__owner == 0' failed.\\n\"",
     "output_type": "error",
     "traceback": [
      "\u001b[0;31m---------------------------------------------------------------------------\u001b[0m",
      "\u001b[0;31mRuntimeError\u001b[0m                              Traceback (most recent call last)",
      "\u001b[0;32m<timed eval>\u001b[0m in \u001b[0;36m<module>\u001b[0;34m\u001b[0m\n",
      "\u001b[0;32m<ipython-input-8-81f6a20f328c>\u001b[0m in \u001b[0;36mfind_minimum\u001b[0;34m(params, backend)\u001b[0m\n\u001b[1;32m      3\u001b[0m \u001b[0;32mdef\u001b[0m \u001b[0mfind_minimum\u001b[0m\u001b[0;34m(\u001b[0m\u001b[0mparams\u001b[0m\u001b[0;34m,\u001b[0m \u001b[0mbackend\u001b[0m\u001b[0;34m)\u001b[0m\u001b[0;34m:\u001b[0m\u001b[0;34m\u001b[0m\u001b[0;34m\u001b[0m\u001b[0m\n\u001b[1;32m      4\u001b[0m     return minimize(lambda p: estimate_hamiltonian(p, backend=backend), params, method='nelder-mead',\n\u001b[0;32m----> 5\u001b[0;31m                     options={'xtol': 1e-12, 'disp': True, 'maxiter': 10})\n\u001b[0m\u001b[1;32m      6\u001b[0m \u001b[0;34m\u001b[0m\u001b[0m\n\u001b[1;32m      7\u001b[0m \u001b[0mnp\u001b[0m\u001b[0;34m.\u001b[0m\u001b[0mrandom\u001b[0m\u001b[0;34m.\u001b[0m\u001b[0mseed\u001b[0m\u001b[0;34m(\u001b[0m\u001b[0;36m111\u001b[0m\u001b[0;34m)\u001b[0m\u001b[0;34m\u001b[0m\u001b[0;34m\u001b[0m\u001b[0m\n",
      "\u001b[0;32m~/anaconda3/lib/python3.7/site-packages/scipy/optimize/_minimize.py\u001b[0m in \u001b[0;36mminimize\u001b[0;34m(fun, x0, args, method, jac, hess, hessp, bounds, constraints, tol, callback, options)\u001b[0m\n\u001b[1;32m    586\u001b[0m                       callback=callback, **options)\n\u001b[1;32m    587\u001b[0m     \u001b[0;32melif\u001b[0m \u001b[0mmeth\u001b[0m \u001b[0;34m==\u001b[0m \u001b[0;34m'nelder-mead'\u001b[0m\u001b[0;34m:\u001b[0m\u001b[0;34m\u001b[0m\u001b[0;34m\u001b[0m\u001b[0m\n\u001b[0;32m--> 588\u001b[0;31m         \u001b[0;32mreturn\u001b[0m \u001b[0m_minimize_neldermead\u001b[0m\u001b[0;34m(\u001b[0m\u001b[0mfun\u001b[0m\u001b[0;34m,\u001b[0m \u001b[0mx0\u001b[0m\u001b[0;34m,\u001b[0m \u001b[0margs\u001b[0m\u001b[0;34m,\u001b[0m \u001b[0mcallback\u001b[0m\u001b[0;34m,\u001b[0m \u001b[0;34m**\u001b[0m\u001b[0moptions\u001b[0m\u001b[0;34m)\u001b[0m\u001b[0;34m\u001b[0m\u001b[0;34m\u001b[0m\u001b[0m\n\u001b[0m\u001b[1;32m    589\u001b[0m     \u001b[0;32melif\u001b[0m \u001b[0mmeth\u001b[0m \u001b[0;34m==\u001b[0m \u001b[0;34m'powell'\u001b[0m\u001b[0;34m:\u001b[0m\u001b[0;34m\u001b[0m\u001b[0;34m\u001b[0m\u001b[0m\n\u001b[1;32m    590\u001b[0m         \u001b[0;32mreturn\u001b[0m \u001b[0m_minimize_powell\u001b[0m\u001b[0;34m(\u001b[0m\u001b[0mfun\u001b[0m\u001b[0;34m,\u001b[0m \u001b[0mx0\u001b[0m\u001b[0;34m,\u001b[0m \u001b[0margs\u001b[0m\u001b[0;34m,\u001b[0m \u001b[0mcallback\u001b[0m\u001b[0;34m,\u001b[0m \u001b[0;34m**\u001b[0m\u001b[0moptions\u001b[0m\u001b[0;34m)\u001b[0m\u001b[0;34m\u001b[0m\u001b[0;34m\u001b[0m\u001b[0m\n",
      "\u001b[0;32m~/anaconda3/lib/python3.7/site-packages/scipy/optimize/optimize.py\u001b[0m in \u001b[0;36m_minimize_neldermead\u001b[0;34m(func, x0, args, callback, maxiter, maxfev, disp, return_all, initial_simplex, xatol, fatol, adaptive, **unknown_options)\u001b[0m\n\u001b[1;32m    583\u001b[0m \u001b[0;34m\u001b[0m\u001b[0m\n\u001b[1;32m    584\u001b[0m     \u001b[0;32mfor\u001b[0m \u001b[0mk\u001b[0m \u001b[0;32min\u001b[0m \u001b[0mrange\u001b[0m\u001b[0;34m(\u001b[0m\u001b[0mN\u001b[0m \u001b[0;34m+\u001b[0m \u001b[0;36m1\u001b[0m\u001b[0;34m)\u001b[0m\u001b[0;34m:\u001b[0m\u001b[0;34m\u001b[0m\u001b[0;34m\u001b[0m\u001b[0m\n\u001b[0;32m--> 585\u001b[0;31m         \u001b[0mfsim\u001b[0m\u001b[0;34m[\u001b[0m\u001b[0mk\u001b[0m\u001b[0;34m]\u001b[0m \u001b[0;34m=\u001b[0m \u001b[0mfunc\u001b[0m\u001b[0;34m(\u001b[0m\u001b[0msim\u001b[0m\u001b[0;34m[\u001b[0m\u001b[0mk\u001b[0m\u001b[0;34m]\u001b[0m\u001b[0;34m)\u001b[0m\u001b[0;34m\u001b[0m\u001b[0;34m\u001b[0m\u001b[0m\n\u001b[0m\u001b[1;32m    586\u001b[0m \u001b[0;34m\u001b[0m\u001b[0m\n\u001b[1;32m    587\u001b[0m     \u001b[0mind\u001b[0m \u001b[0;34m=\u001b[0m \u001b[0mnumpy\u001b[0m\u001b[0;34m.\u001b[0m\u001b[0margsort\u001b[0m\u001b[0;34m(\u001b[0m\u001b[0mfsim\u001b[0m\u001b[0;34m)\u001b[0m\u001b[0;34m\u001b[0m\u001b[0;34m\u001b[0m\u001b[0m\n",
      "\u001b[0;32m~/anaconda3/lib/python3.7/site-packages/scipy/optimize/optimize.py\u001b[0m in \u001b[0;36mfunction_wrapper\u001b[0;34m(*wrapper_args)\u001b[0m\n\u001b[1;32m    324\u001b[0m     \u001b[0;32mdef\u001b[0m \u001b[0mfunction_wrapper\u001b[0m\u001b[0;34m(\u001b[0m\u001b[0;34m*\u001b[0m\u001b[0mwrapper_args\u001b[0m\u001b[0;34m)\u001b[0m\u001b[0;34m:\u001b[0m\u001b[0;34m\u001b[0m\u001b[0;34m\u001b[0m\u001b[0m\n\u001b[1;32m    325\u001b[0m         \u001b[0mncalls\u001b[0m\u001b[0;34m[\u001b[0m\u001b[0;36m0\u001b[0m\u001b[0;34m]\u001b[0m \u001b[0;34m+=\u001b[0m \u001b[0;36m1\u001b[0m\u001b[0;34m\u001b[0m\u001b[0;34m\u001b[0m\u001b[0m\n\u001b[0;32m--> 326\u001b[0;31m         \u001b[0;32mreturn\u001b[0m \u001b[0mfunction\u001b[0m\u001b[0;34m(\u001b[0m\u001b[0;34m*\u001b[0m\u001b[0;34m(\u001b[0m\u001b[0mwrapper_args\u001b[0m \u001b[0;34m+\u001b[0m \u001b[0margs\u001b[0m\u001b[0;34m)\u001b[0m\u001b[0;34m)\u001b[0m\u001b[0;34m\u001b[0m\u001b[0;34m\u001b[0m\u001b[0m\n\u001b[0m\u001b[1;32m    327\u001b[0m \u001b[0;34m\u001b[0m\u001b[0m\n\u001b[1;32m    328\u001b[0m     \u001b[0;32mreturn\u001b[0m \u001b[0mncalls\u001b[0m\u001b[0;34m,\u001b[0m \u001b[0mfunction_wrapper\u001b[0m\u001b[0;34m\u001b[0m\u001b[0;34m\u001b[0m\u001b[0m\n",
      "\u001b[0;32m<ipython-input-8-81f6a20f328c>\u001b[0m in \u001b[0;36m<lambda>\u001b[0;34m(p)\u001b[0m\n\u001b[1;32m      2\u001b[0m \u001b[0;34m\u001b[0m\u001b[0m\n\u001b[1;32m      3\u001b[0m \u001b[0;32mdef\u001b[0m \u001b[0mfind_minimum\u001b[0m\u001b[0;34m(\u001b[0m\u001b[0mparams\u001b[0m\u001b[0;34m,\u001b[0m \u001b[0mbackend\u001b[0m\u001b[0;34m)\u001b[0m\u001b[0;34m:\u001b[0m\u001b[0;34m\u001b[0m\u001b[0;34m\u001b[0m\u001b[0m\n\u001b[0;32m----> 4\u001b[0;31m     return minimize(lambda p: estimate_hamiltonian(p, backend=backend), params, method='nelder-mead',\n\u001b[0m\u001b[1;32m      5\u001b[0m                     options={'xtol': 1e-12, 'disp': True, 'maxiter': 10})\n\u001b[1;32m      6\u001b[0m \u001b[0;34m\u001b[0m\u001b[0m\n",
      "\u001b[0;32m<ipython-input-10-20cf41e2a8b5>\u001b[0m in \u001b[0;36mestimate_hamiltonian\u001b[0;34m(params, shots, backend)\u001b[0m\n\u001b[1;32m     40\u001b[0m     \u001b[0;32melse\u001b[0m\u001b[0;34m:\u001b[0m\u001b[0;34m\u001b[0m\u001b[0;34m\u001b[0m\u001b[0m\n\u001b[1;32m     41\u001b[0m         \u001b[0mreason\u001b[0m \u001b[0;34m=\u001b[0m \u001b[0mresult\u001b[0m\u001b[0;34m.\u001b[0m\u001b[0mget\u001b[0m\u001b[0;34m(\u001b[0m\u001b[0;34m'raw_text'\u001b[0m\u001b[0;34m,\u001b[0m \u001b[0;34m'No reason in result structure.'\u001b[0m\u001b[0;34m)\u001b[0m\u001b[0;34m\u001b[0m\u001b[0;34m\u001b[0m\u001b[0m\n\u001b[0;32m---> 42\u001b[0;31m         \u001b[0;32mraise\u001b[0m \u001b[0mRuntimeError\u001b[0m\u001b[0;34m(\u001b[0m\u001b[0;34mf'Result structure does not contain proper histogram data. {reason}'\u001b[0m\u001b[0;34m)\u001b[0m\u001b[0;34m\u001b[0m\u001b[0;34m\u001b[0m\u001b[0m\n\u001b[0m",
      "\u001b[0;31mRuntimeError\u001b[0m: Result structure does not contain proper histogram data. Error occurred in simulation:\nb\"qx-simulator: ../nptl/pthread_mutex_lock.c:81: __pthread_mutex_cond_lock: Assertion `mutex->__data.__owner == 0' failed.\\n\""
     ]
    }
   ],
   "source": [
    "np.random.seed(SEED)\n",
    "params = np.random.uniform(low=-np.pi, high=np.pi, size=(10,))\n",
    "%time find_minimum(params, 'QX single-node simulator')"
   ]
  },
  {
   "cell_type": "markdown",
   "metadata": {},
   "source": [
    "## QX single-node SurfSara"
   ]
  },
  {
   "cell_type": "code",
   "execution_count": 13,
   "metadata": {},
   "outputs": [
    {
     "name": "stdout",
     "output_type": "stream",
     "text": [
      "Running quantum circuit with params [ 1.99315243  1.24236     0.41020027 -1.41857174  3.1320029  -2.27424885\n",
      "  0.72517815 -0.09401969 -0.59673273  1.4316181 ]\n"
     ]
    },
    {
     "name": "stderr",
     "output_type": "stream",
     "text": [
      "Your experiment can not be optimized and may take longer to execute, see https://www.quantum-inspire.com/kbase/optimization-of-simulations/ for details.\n"
     ]
    },
    {
     "name": "stdout",
     "output_type": "stream",
     "text": [
      "CPU times: user 4.16 s, sys: 283 ms, total: 4.44 s\n",
      "Wall time: 8min 51s\n",
      "Running quantum circuit with params [ 2.09281005  1.24236     0.41020027 -1.41857174  3.1320029  -2.27424885\n",
      "  0.72517815 -0.09401969 -0.59673273  1.4316181 ]\n"
     ]
    },
    {
     "name": "stderr",
     "output_type": "stream",
     "text": [
      "Your experiment can not be optimized and may take longer to execute, see https://www.quantum-inspire.com/kbase/optimization-of-simulations/ for details.\n"
     ]
    },
    {
     "name": "stdout",
     "output_type": "stream",
     "text": [
      "CPU times: user 4.09 s, sys: 349 ms, total: 4.44 s\n",
      "Wall time: 8min 44s\n",
      "Running quantum circuit with params [ 1.99315243  1.304478    0.41020027 -1.41857174  3.1320029  -2.27424885\n",
      "  0.72517815 -0.09401969 -0.59673273  1.4316181 ]\n"
     ]
    },
    {
     "name": "stderr",
     "output_type": "stream",
     "text": [
      "Your experiment can not be optimized and may take longer to execute, see https://www.quantum-inspire.com/kbase/optimization-of-simulations/ for details.\n"
     ]
    },
    {
     "ename": "KeyboardInterrupt",
     "evalue": "",
     "output_type": "error",
     "traceback": [
      "\u001b[0;31m---------------------------------------------------------------------------\u001b[0m",
      "\u001b[0;31mKeyboardInterrupt\u001b[0m                         Traceback (most recent call last)",
      "\u001b[0;32m<timed eval>\u001b[0m in \u001b[0;36m<module>\u001b[0;34m\u001b[0m\n",
      "\u001b[0;32m~/anaconda3/lib/python3.7/site-packages/quantuminspire/api.py\u001b[0m in \u001b[0;36mexecute_qasm\u001b[0;34m(self, qasm, backend_type, number_of_shots, collect_tries, default_number_of_shots, identifier, full_state_projection)\u001b[0m\n\u001b[1;32m    853\u001b[0m                                                           full_state_projection=full_state_projection)\n\u001b[1;32m    854\u001b[0m \u001b[0;34m\u001b[0m\u001b[0m\n\u001b[0;32m--> 855\u001b[0;31m             \u001b[0mhas_results\u001b[0m\u001b[0;34m,\u001b[0m \u001b[0mmessage\u001b[0m \u001b[0;34m=\u001b[0m \u001b[0mself\u001b[0m\u001b[0;34m.\u001b[0m\u001b[0m_wait_for_completed_job\u001b[0m\u001b[0;34m(\u001b[0m\u001b[0mquantum_inspire_job\u001b[0m\u001b[0;34m,\u001b[0m \u001b[0mcollect_tries\u001b[0m\u001b[0;34m)\u001b[0m\u001b[0;34m\u001b[0m\u001b[0;34m\u001b[0m\u001b[0m\n\u001b[0m\u001b[1;32m    856\u001b[0m             \u001b[0;32mreturn\u001b[0m \u001b[0mOrderedDict\u001b[0m\u001b[0;34m(\u001b[0m\u001b[0mquantum_inspire_job\u001b[0m\u001b[0;34m.\u001b[0m\u001b[0mretrieve_results\u001b[0m\u001b[0;34m(\u001b[0m\u001b[0;34m)\u001b[0m\u001b[0;34m)\u001b[0m \u001b[0;32mif\u001b[0m \u001b[0mhas_results\u001b[0m \u001b[0;32melse\u001b[0m\u001b[0;31m \u001b[0m\u001b[0;31m\\\u001b[0m\u001b[0;34m\u001b[0m\u001b[0;34m\u001b[0m\u001b[0m\n\u001b[1;32m    857\u001b[0m                 \u001b[0mOrderedDict\u001b[0m\u001b[0;34m(\u001b[0m\u001b[0mself\u001b[0m\u001b[0;34m.\u001b[0m\u001b[0m_generate_error_result\u001b[0m\u001b[0;34m(\u001b[0m\u001b[0mmessage\u001b[0m\u001b[0;34m)\u001b[0m\u001b[0;34m)\u001b[0m\u001b[0;34m\u001b[0m\u001b[0;34m\u001b[0m\u001b[0m\n",
      "\u001b[0;32m~/anaconda3/lib/python3.7/site-packages/quantuminspire/api.py\u001b[0m in \u001b[0;36m_wait_for_completed_job\u001b[0;34m(quantum_inspire_job, collect_max_tries, sec_retry_delay)\u001b[0m\n\u001b[1;32m    787\u001b[0m         \u001b[0mattempts\u001b[0m \u001b[0;34m=\u001b[0m \u001b[0mitertools\u001b[0m\u001b[0;34m.\u001b[0m\u001b[0mcount\u001b[0m\u001b[0;34m(\u001b[0m\u001b[0;34m)\u001b[0m \u001b[0;32mif\u001b[0m \u001b[0mcollect_max_tries\u001b[0m \u001b[0;32mis\u001b[0m \u001b[0;32mNone\u001b[0m \u001b[0;32melse\u001b[0m \u001b[0mrange\u001b[0m\u001b[0;34m(\u001b[0m\u001b[0mcollect_max_tries\u001b[0m\u001b[0;34m)\u001b[0m\u001b[0;34m\u001b[0m\u001b[0;34m\u001b[0m\u001b[0m\n\u001b[1;32m    788\u001b[0m         \u001b[0;32mfor\u001b[0m \u001b[0m_\u001b[0m \u001b[0;32min\u001b[0m \u001b[0mattempts\u001b[0m\u001b[0;34m:\u001b[0m\u001b[0;34m\u001b[0m\u001b[0;34m\u001b[0m\u001b[0m\n\u001b[0;32m--> 789\u001b[0;31m             \u001b[0mtime\u001b[0m\u001b[0;34m.\u001b[0m\u001b[0msleep\u001b[0m\u001b[0;34m(\u001b[0m\u001b[0msec_retry_delay\u001b[0m\u001b[0;34m)\u001b[0m\u001b[0;34m\u001b[0m\u001b[0;34m\u001b[0m\u001b[0m\n\u001b[0m\u001b[1;32m    790\u001b[0m             \u001b[0mstatus\u001b[0m \u001b[0;34m=\u001b[0m \u001b[0mquantum_inspire_job\u001b[0m\u001b[0;34m.\u001b[0m\u001b[0mcheck_status\u001b[0m\u001b[0;34m(\u001b[0m\u001b[0;34m)\u001b[0m\u001b[0;34m\u001b[0m\u001b[0;34m\u001b[0m\u001b[0m\n\u001b[1;32m    791\u001b[0m             \u001b[0;32mif\u001b[0m \u001b[0mstatus\u001b[0m \u001b[0;34m==\u001b[0m \u001b[0;34m'COMPLETE'\u001b[0m\u001b[0;34m:\u001b[0m\u001b[0;34m\u001b[0m\u001b[0;34m\u001b[0m\u001b[0m\n",
      "\u001b[0;31mKeyboardInterrupt\u001b[0m: "
     ]
    },
    {
     "ename": "AttributeError",
     "evalue": "'NoneType' object has no attribute 'get'",
     "output_type": "error",
     "traceback": [
      "\u001b[0;31m---------------------------------------------------------------------------\u001b[0m",
      "\u001b[0;31mAttributeError\u001b[0m                            Traceback (most recent call last)",
      "\u001b[0;32m<timed eval>\u001b[0m in \u001b[0;36m<module>\u001b[0;34m\u001b[0m\n",
      "\u001b[0;32m<ipython-input-8-81f6a20f328c>\u001b[0m in \u001b[0;36mfind_minimum\u001b[0;34m(params, backend)\u001b[0m\n\u001b[1;32m      3\u001b[0m \u001b[0;32mdef\u001b[0m \u001b[0mfind_minimum\u001b[0m\u001b[0;34m(\u001b[0m\u001b[0mparams\u001b[0m\u001b[0;34m,\u001b[0m \u001b[0mbackend\u001b[0m\u001b[0;34m)\u001b[0m\u001b[0;34m:\u001b[0m\u001b[0;34m\u001b[0m\u001b[0;34m\u001b[0m\u001b[0m\n\u001b[1;32m      4\u001b[0m     return minimize(lambda p: estimate_hamiltonian(p, backend=backend), params, method='nelder-mead',\n\u001b[0;32m----> 5\u001b[0;31m                     options={'xtol': 1e-12, 'disp': True, 'maxiter': 10})\n\u001b[0m\u001b[1;32m      6\u001b[0m \u001b[0;34m\u001b[0m\u001b[0m\n\u001b[1;32m      7\u001b[0m \u001b[0mnp\u001b[0m\u001b[0;34m.\u001b[0m\u001b[0mrandom\u001b[0m\u001b[0;34m.\u001b[0m\u001b[0mseed\u001b[0m\u001b[0;34m(\u001b[0m\u001b[0;36m111\u001b[0m\u001b[0;34m)\u001b[0m\u001b[0;34m\u001b[0m\u001b[0;34m\u001b[0m\u001b[0m\n",
      "\u001b[0;32m~/anaconda3/lib/python3.7/site-packages/scipy/optimize/_minimize.py\u001b[0m in \u001b[0;36mminimize\u001b[0;34m(fun, x0, args, method, jac, hess, hessp, bounds, constraints, tol, callback, options)\u001b[0m\n\u001b[1;32m    586\u001b[0m                       callback=callback, **options)\n\u001b[1;32m    587\u001b[0m     \u001b[0;32melif\u001b[0m \u001b[0mmeth\u001b[0m \u001b[0;34m==\u001b[0m \u001b[0;34m'nelder-mead'\u001b[0m\u001b[0;34m:\u001b[0m\u001b[0;34m\u001b[0m\u001b[0;34m\u001b[0m\u001b[0m\n\u001b[0;32m--> 588\u001b[0;31m         \u001b[0;32mreturn\u001b[0m \u001b[0m_minimize_neldermead\u001b[0m\u001b[0;34m(\u001b[0m\u001b[0mfun\u001b[0m\u001b[0;34m,\u001b[0m \u001b[0mx0\u001b[0m\u001b[0;34m,\u001b[0m \u001b[0margs\u001b[0m\u001b[0;34m,\u001b[0m \u001b[0mcallback\u001b[0m\u001b[0;34m,\u001b[0m \u001b[0;34m**\u001b[0m\u001b[0moptions\u001b[0m\u001b[0;34m)\u001b[0m\u001b[0;34m\u001b[0m\u001b[0;34m\u001b[0m\u001b[0m\n\u001b[0m\u001b[1;32m    589\u001b[0m     \u001b[0;32melif\u001b[0m \u001b[0mmeth\u001b[0m \u001b[0;34m==\u001b[0m \u001b[0;34m'powell'\u001b[0m\u001b[0;34m:\u001b[0m\u001b[0;34m\u001b[0m\u001b[0;34m\u001b[0m\u001b[0m\n\u001b[1;32m    590\u001b[0m         \u001b[0;32mreturn\u001b[0m \u001b[0m_minimize_powell\u001b[0m\u001b[0;34m(\u001b[0m\u001b[0mfun\u001b[0m\u001b[0;34m,\u001b[0m \u001b[0mx0\u001b[0m\u001b[0;34m,\u001b[0m \u001b[0margs\u001b[0m\u001b[0;34m,\u001b[0m \u001b[0mcallback\u001b[0m\u001b[0;34m,\u001b[0m \u001b[0;34m**\u001b[0m\u001b[0moptions\u001b[0m\u001b[0;34m)\u001b[0m\u001b[0;34m\u001b[0m\u001b[0;34m\u001b[0m\u001b[0m\n",
      "\u001b[0;32m~/anaconda3/lib/python3.7/site-packages/scipy/optimize/optimize.py\u001b[0m in \u001b[0;36m_minimize_neldermead\u001b[0;34m(func, x0, args, callback, maxiter, maxfev, disp, return_all, initial_simplex, xatol, fatol, adaptive, **unknown_options)\u001b[0m\n\u001b[1;32m    583\u001b[0m \u001b[0;34m\u001b[0m\u001b[0m\n\u001b[1;32m    584\u001b[0m     \u001b[0;32mfor\u001b[0m \u001b[0mk\u001b[0m \u001b[0;32min\u001b[0m \u001b[0mrange\u001b[0m\u001b[0;34m(\u001b[0m\u001b[0mN\u001b[0m \u001b[0;34m+\u001b[0m \u001b[0;36m1\u001b[0m\u001b[0;34m)\u001b[0m\u001b[0;34m:\u001b[0m\u001b[0;34m\u001b[0m\u001b[0;34m\u001b[0m\u001b[0m\n\u001b[0;32m--> 585\u001b[0;31m         \u001b[0mfsim\u001b[0m\u001b[0;34m[\u001b[0m\u001b[0mk\u001b[0m\u001b[0;34m]\u001b[0m \u001b[0;34m=\u001b[0m \u001b[0mfunc\u001b[0m\u001b[0;34m(\u001b[0m\u001b[0msim\u001b[0m\u001b[0;34m[\u001b[0m\u001b[0mk\u001b[0m\u001b[0;34m]\u001b[0m\u001b[0;34m)\u001b[0m\u001b[0;34m\u001b[0m\u001b[0;34m\u001b[0m\u001b[0m\n\u001b[0m\u001b[1;32m    586\u001b[0m \u001b[0;34m\u001b[0m\u001b[0m\n\u001b[1;32m    587\u001b[0m     \u001b[0mind\u001b[0m \u001b[0;34m=\u001b[0m \u001b[0mnumpy\u001b[0m\u001b[0;34m.\u001b[0m\u001b[0margsort\u001b[0m\u001b[0;34m(\u001b[0m\u001b[0mfsim\u001b[0m\u001b[0;34m)\u001b[0m\u001b[0;34m\u001b[0m\u001b[0;34m\u001b[0m\u001b[0m\n",
      "\u001b[0;32m~/anaconda3/lib/python3.7/site-packages/scipy/optimize/optimize.py\u001b[0m in \u001b[0;36mfunction_wrapper\u001b[0;34m(*wrapper_args)\u001b[0m\n\u001b[1;32m    324\u001b[0m     \u001b[0;32mdef\u001b[0m \u001b[0mfunction_wrapper\u001b[0m\u001b[0;34m(\u001b[0m\u001b[0;34m*\u001b[0m\u001b[0mwrapper_args\u001b[0m\u001b[0;34m)\u001b[0m\u001b[0;34m:\u001b[0m\u001b[0;34m\u001b[0m\u001b[0;34m\u001b[0m\u001b[0m\n\u001b[1;32m    325\u001b[0m         \u001b[0mncalls\u001b[0m\u001b[0;34m[\u001b[0m\u001b[0;36m0\u001b[0m\u001b[0;34m]\u001b[0m \u001b[0;34m+=\u001b[0m \u001b[0;36m1\u001b[0m\u001b[0;34m\u001b[0m\u001b[0;34m\u001b[0m\u001b[0m\n\u001b[0;32m--> 326\u001b[0;31m         \u001b[0;32mreturn\u001b[0m \u001b[0mfunction\u001b[0m\u001b[0;34m(\u001b[0m\u001b[0;34m*\u001b[0m\u001b[0;34m(\u001b[0m\u001b[0mwrapper_args\u001b[0m \u001b[0;34m+\u001b[0m \u001b[0margs\u001b[0m\u001b[0;34m)\u001b[0m\u001b[0;34m)\u001b[0m\u001b[0;34m\u001b[0m\u001b[0;34m\u001b[0m\u001b[0m\n\u001b[0m\u001b[1;32m    327\u001b[0m \u001b[0;34m\u001b[0m\u001b[0m\n\u001b[1;32m    328\u001b[0m     \u001b[0;32mreturn\u001b[0m \u001b[0mncalls\u001b[0m\u001b[0;34m,\u001b[0m \u001b[0mfunction_wrapper\u001b[0m\u001b[0;34m\u001b[0m\u001b[0;34m\u001b[0m\u001b[0m\n",
      "\u001b[0;32m<ipython-input-8-81f6a20f328c>\u001b[0m in \u001b[0;36m<lambda>\u001b[0;34m(p)\u001b[0m\n\u001b[1;32m      2\u001b[0m \u001b[0;34m\u001b[0m\u001b[0m\n\u001b[1;32m      3\u001b[0m \u001b[0;32mdef\u001b[0m \u001b[0mfind_minimum\u001b[0m\u001b[0;34m(\u001b[0m\u001b[0mparams\u001b[0m\u001b[0;34m,\u001b[0m \u001b[0mbackend\u001b[0m\u001b[0;34m)\u001b[0m\u001b[0;34m:\u001b[0m\u001b[0;34m\u001b[0m\u001b[0;34m\u001b[0m\u001b[0m\n\u001b[0;32m----> 4\u001b[0;31m     return minimize(lambda p: estimate_hamiltonian(p, backend=backend), params, method='nelder-mead',\n\u001b[0m\u001b[1;32m      5\u001b[0m                     options={'xtol': 1e-12, 'disp': True, 'maxiter': 10})\n\u001b[1;32m      6\u001b[0m \u001b[0;34m\u001b[0m\u001b[0m\n",
      "\u001b[0;32m<ipython-input-10-20cf41e2a8b5>\u001b[0m in \u001b[0;36mestimate_hamiltonian\u001b[0;34m(params, shots, backend)\u001b[0m\n\u001b[1;32m     34\u001b[0m     \u001b[0mresult\u001b[0m \u001b[0;34m=\u001b[0m \u001b[0mget_ipython\u001b[0m\u001b[0;34m(\u001b[0m\u001b[0;34m)\u001b[0m\u001b[0;34m.\u001b[0m\u001b[0mrun_line_magic\u001b[0m\u001b[0;34m(\u001b[0m\u001b[0;34m'time'\u001b[0m\u001b[0;34m,\u001b[0m \u001b[0;34m'qi.execute_qasm(qasm, backend_type=backend_type, number_of_shots=shots)'\u001b[0m\u001b[0;34m)\u001b[0m\u001b[0;34m\u001b[0m\u001b[0;34m\u001b[0m\u001b[0m\n\u001b[1;32m     35\u001b[0m \u001b[0;34m\u001b[0m\u001b[0m\n\u001b[0;32m---> 36\u001b[0;31m     \u001b[0;32mif\u001b[0m \u001b[0mresult\u001b[0m\u001b[0;34m.\u001b[0m\u001b[0mget\u001b[0m\u001b[0;34m(\u001b[0m\u001b[0;34m'histogram'\u001b[0m\u001b[0;34m,\u001b[0m \u001b[0;34m{\u001b[0m\u001b[0;34m}\u001b[0m\u001b[0;34m)\u001b[0m\u001b[0;34m:\u001b[0m\u001b[0;34m\u001b[0m\u001b[0;34m\u001b[0m\u001b[0m\n\u001b[0m\u001b[1;32m     37\u001b[0m         \u001b[0mhist\u001b[0m \u001b[0;34m=\u001b[0m \u001b[0mresult\u001b[0m\u001b[0;34m[\u001b[0m\u001b[0;34m'histogram'\u001b[0m\u001b[0;34m]\u001b[0m\u001b[0;34m\u001b[0m\u001b[0;34m\u001b[0m\u001b[0m\n\u001b[1;32m     38\u001b[0m         \u001b[0mexpval\u001b[0m \u001b[0;34m=\u001b[0m \u001b[0mhist\u001b[0m\u001b[0;34m.\u001b[0m\u001b[0mget\u001b[0m\u001b[0;34m(\u001b[0m\u001b[0;34m'0'\u001b[0m\u001b[0;34m)\u001b[0m \u001b[0;34m+\u001b[0m \u001b[0mhist\u001b[0m\u001b[0;34m.\u001b[0m\u001b[0mget\u001b[0m\u001b[0;34m(\u001b[0m\u001b[0;34m'1'\u001b[0m\u001b[0;34m)\u001b[0m \u001b[0;34m-\u001b[0m \u001b[0mhist\u001b[0m\u001b[0;34m.\u001b[0m\u001b[0mget\u001b[0m\u001b[0;34m(\u001b[0m\u001b[0;34m'2'\u001b[0m\u001b[0;34m)\u001b[0m \u001b[0;34m-\u001b[0m \u001b[0mhist\u001b[0m\u001b[0;34m.\u001b[0m\u001b[0mget\u001b[0m\u001b[0;34m(\u001b[0m\u001b[0;34m'3'\u001b[0m\u001b[0;34m)\u001b[0m\u001b[0;34m\u001b[0m\u001b[0;34m\u001b[0m\u001b[0m\n",
      "\u001b[0;31mAttributeError\u001b[0m: 'NoneType' object has no attribute 'get'"
     ]
    }
   ],
   "source": [
    "np.random.seed(SEED)\n",
    "params = np.random.uniform(low=-np.pi, high=np.pi, size=(10,))\n",
    "%time find_minimum(params, 'QX single-node simulator SurfSara')"
   ]
  }
 ],
 "metadata": {
  "kernelspec": {
   "display_name": "Python 3",
   "language": "python",
   "name": "python3"
  },
  "language_info": {
   "codemirror_mode": {
    "name": "ipython",
    "version": 3
   },
   "file_extension": ".py",
   "mimetype": "text/x-python",
   "name": "python",
   "nbconvert_exporter": "python",
   "pygments_lexer": "ipython3",
   "version": "3.7.1"
  }
 },
 "nbformat": 4,
 "nbformat_minor": 2
}
