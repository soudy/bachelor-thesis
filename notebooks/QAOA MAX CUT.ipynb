{
 "cells": [
  {
   "cell_type": "markdown",
   "metadata": {},
   "source": [
    "MaxCut on an undirected graph $G = \\{V, E\\}$ with $n = 4$ vertices $V = \\{0, 1, 2, 3\\}$ and 4 edges $E = \\{(0,1), (0,3), (1,2), (2,3)\\}$ with unit weight $w_{i, j} = 1$.\n",
    "The MaxCut classical objective function is as follows\n",
    "$$\n",
    "L(z) = \\sum_{\\{i, j\\} \\in E} w_{i, j}z_i(1 - z_j) + w_{i, j} z_j(1 - z_i),\n",
    "$$\n",
    "with $z_i \\in \\{-1, 1\\}$ for $i \\in V$.\n",
    "\n",
    "The equivalent problem Hamiltonian can be described in terms of $Z$ interactions:\n",
    "$$\n",
    "H_L = \\frac{1}{2} \\sum_{\\{i, j\\} \\in E} w_{i, j}(I - Z^{(i)}Z^{(j)}),\n",
    "$$\n",
    "where $Z^{(i)}$ is the Pauli-Z operator acting on qubit $i$."
   ]
  },
  {
   "cell_type": "code",
   "execution_count": 1,
   "metadata": {},
   "outputs": [
    {
     "name": "stderr",
     "output_type": "stream",
     "text": [
      "/home/soud/anaconda3/lib/python3.7/site-packages/networkx/drawing/nx_pylab.py:611: MatplotlibDeprecationWarning: isinstance(..., numbers.Number)\n",
      "  if cb.is_numlike(alpha):\n"
     ]
    },
    {
     "data": {
      "text/plain": [
       "<Figure size 760x570 with 1 Axes>"
      ]
     },
     "metadata": {},
     "output_type": "display_data"
    }
   ],
   "source": [
    "import numpy as np\n",
    "import matplotlib.pyplot as plt\n",
    "import networkx as nx\n",
    "\n",
    "plt.rc('text', usetex=True)\n",
    "plt.rc('text.latex', preamble=r'''\n",
    "\\usepackage{palatino}\n",
    "\\usepackage{newpxmath}''')\n",
    "\n",
    "a = '#bdc3c7'\n",
    "\n",
    "n = 4\n",
    "V = np.arange(0, n, 1)\n",
    "E =[(0, 1, 1.0), (0, 3, 1.0), (1, 2, 1.0), (2, 3, 1.0)] \n",
    "\n",
    "G = nx.Graph()\n",
    "G.add_nodes_from(V)\n",
    "G.add_weighted_edges_from(E)\n",
    "\n",
    "edge_labels = nx.get_edge_attributes(G, 'weight')\n",
    "pos = nx.spring_layout(G, seed=5)\n",
    "\n",
    "plt.subplots(figsize=(4, 3), dpi=190)\n",
    "default_axes = plt.axes(frameon=False)\n",
    "\n",
    "nx.draw_networkx_edge_labels(G, pos=pos, edge_labels=edge_labels)\n",
    "nx.draw_networkx(\n",
    "    G, node_size=1000, alpha=1, ax=default_axes, pos=pos,\n",
    "    width=3, font_color='#ffffff',\n",
    "    node_color=[a for _ in V],\n",
    ")\n",
    "\n",
    "plt.axis('off')\n",
    "axis = plt.gca()\n",
    "axis.set_xlim([1.1*x for x in axis.get_xlim()])\n",
    "axis.set_ylim([1.1*y for y in axis.get_ylim()])\n",
    "plt.tight_layout()\n",
    "plt.savefig('visualizations/figures/maxcut_4_graph.pdf', bbox_inches='tight')\n",
    "plt.show()"
   ]
  },
  {
   "cell_type": "code",
   "execution_count": 2,
   "metadata": {},
   "outputs": [],
   "source": [
    "def L(G, z):\n",
    "    cost = 0\n",
    "    \n",
    "    for i, j in G.edges:\n",
    "        w = G[i][j]['weight']\n",
    "        cost += w*z[i]*(1 - z[j]) + w*z[j]*(1 - z[i])\n",
    "    \n",
    "    return cost"
   ]
  },
  {
   "cell_type": "code",
   "execution_count": 3,
   "metadata": {},
   "outputs": [
    {
     "name": "stdout",
     "output_type": "stream",
     "text": [
      "L((0, 0, 0, 0)) = 0.0\n",
      "L((0, 0, 0, 1)) = 2.0\n",
      "L((0, 0, 1, 0)) = 2.0\n",
      "L((0, 0, 1, 1)) = 2.0\n",
      "L((0, 1, 0, 0)) = 2.0\n",
      "L((0, 1, 0, 1)) = 4.0\n",
      "L((0, 1, 1, 0)) = 2.0\n",
      "L((0, 1, 1, 1)) = 2.0\n",
      "L((1, 0, 0, 0)) = 2.0\n",
      "L((1, 0, 0, 1)) = 2.0\n",
      "L((1, 0, 1, 0)) = 4.0\n",
      "L((1, 0, 1, 1)) = 2.0\n",
      "L((1, 1, 0, 0)) = 2.0\n",
      "L((1, 1, 0, 1)) = 2.0\n",
      "L((1, 1, 1, 0)) = 2.0\n",
      "L((1, 1, 1, 1)) = 0.0\n"
     ]
    }
   ],
   "source": [
    "import itertools\n",
    "\n",
    "zs = list(itertools.product([0, 1], repeat=4))\n",
    "for z in zs:\n",
    "    print(f'L({z}) = {L(G, z)}')"
   ]
  },
  {
   "cell_type": "markdown",
   "metadata": {},
   "source": [
    "Optimal solutions are $z = 1010$ and $z = 0101$ with $L(z) =  4$."
   ]
  },
  {
   "cell_type": "code",
   "execution_count": 4,
   "metadata": {},
   "outputs": [],
   "source": [
    "from projectq import MainEngine\n",
    "from projectq.backends import ResourceCounter, Simulator\n",
    "from projectq.ops import All, H, X, Rz, Rx, Ry, CNOT, Measure, QubitOperator\n",
    "from projectq.setups import restrictedgateset\n",
    "from quantuminspire.projectq.backend_qx import QIBackend\n",
    "\n",
    "class QAOA:\n",
    "    def __init__(self, G, n, p=1, shots=1024,\n",
    "                 eng_kwargs={}, use_qi=False, qi_backend_kwargs=None):\n",
    "        self.use_qi = use_qi\n",
    "        self.eng_kwargs = eng_kwargs\n",
    "        self.qi_backend_kwargs = qi_backend_kwargs\n",
    "        self._renew_engine()\n",
    "            \n",
    "        self.G = G\n",
    "        self.p = p\n",
    "        self.shots = shots\n",
    "        \n",
    "    def _renew_engine(self):\n",
    "        if self.use_qi:\n",
    "            if self.qi_backend_kwargs is None:\n",
    "                raise RuntimeError(\"qi_backend_kwargs is required when use_qi=True\")\n",
    "            qi_backend = QIBackend(num_runs=self.shots, **self.qi_backend_kwargs)\n",
    "            \n",
    "            compiler_engines = restrictedgateset.get_engine_list(\n",
    "                one_qubit_gates=qi_backend.one_qubit_gates,\n",
    "                two_qubit_gates=qi_backend.two_qubit_gates,\n",
    "                other_gates=qi_backend.three_qubit_gates\n",
    "            )\n",
    "            compiler_engines.extend([ResourceCounter()])\n",
    "            \n",
    "            self.eng_kwargs[\"backend\"] = qi_backend\n",
    "            self.eng_kwargs[\"engine_list\"] = compiler_engines\n",
    "        else:\n",
    "            self.eng_kwargs[\"backend\"] = Simulator()\n",
    "            \n",
    "\n",
    "        self.eng = MainEngine(**self.eng_kwargs)\n",
    "        \n",
    "    def cost(self, params):\n",
    "        print(f'Params: {params}')\n",
    "        cost = 0\n",
    "        cost_hamiltonian = 0 * QubitOperator('')\n",
    "        for i, j in G.edges:\n",
    "            w = G[i][j]['weight']\n",
    "            cost_hamiltonian += 0.5 * w * (QubitOperator('') - QubitOperator(f\"Z{i} Z{j}\"))\n",
    "\n",
    "        cost -= self.expval(cost_hamiltonian, params)\n",
    "        \n",
    "        print(f'Objective: {-cost:.5f}')\n",
    "\n",
    "        return cost\n",
    "        \n",
    "    def qaoa_circuit(self, params):\n",
    "        qureg = self.eng.allocate_qureg(n)\n",
    "        \n",
    "        All(H) | qureg\n",
    "\n",
    "        for i in range(self.p):\n",
    "            # problem unitary\n",
    "            for k, l in self.G.edges:\n",
    "                CNOT | (qureg[k], qureg[l])\n",
    "                Rz(params[i]*G[k][l]['weight']) | qureg[l]\n",
    "                CNOT | (qureg[k], qureg[l])\n",
    "\n",
    "            # mixer unitary\n",
    "            All(Rx(2*params[i+1])) | qureg\n",
    "        \n",
    "        return qureg\n",
    "\n",
    "    @staticmethod\n",
    "    def _even_ones(binary, relevant_idxs):\n",
    "        integer = int(binary)\n",
    "        ones_rel_idxs = 0\n",
    "        for i in relevant_idxs:\n",
    "            ones_rel_idxs += 10**i\n",
    "        \n",
    "        n_ones = str(integer + ones_rel_idxs).count('2')\n",
    "        \n",
    "        return n_ones % 2 == 0\n",
    "    \n",
    "    def _get_qi_probs(self, qureg):\n",
    "        results = {}\n",
    "        probs = self.eng.backend.get_probabilities(qureg)\n",
    "        \n",
    "        for result, count in probs.items():\n",
    "            reversed_order = ''.join(list(reversed(result)))\n",
    "            results[reversed_order] = count\n",
    "        \n",
    "        return results\n",
    "    \n",
    "    def probabilities(self, params):\n",
    "        self._renew_engine()\n",
    "        \n",
    "        if self.use_qi:\n",
    "            # Quantum Inspire back-end does 1024 shots by default and\n",
    "            #   saves probabilities in the back-end object\n",
    "            qureg = self.qaoa_circuit(params)\n",
    "            All(Measure) | qureg\n",
    "\n",
    "            self.eng.flush()\n",
    "            results = self._get_qi_probs(qureg)\n",
    "            self._renew_engine()\n",
    "\n",
    "            return results\n",
    "        else:\n",
    "            # sample results manually through repeated shots\n",
    "            results = {}\n",
    "            for _ in range(self.shots): \n",
    "                qureg = self.qaoa_circuit(params)\n",
    "                All(Measure) | qureg\n",
    "\n",
    "                result = ''.join(str(int(q)) for q in reversed(qureg))\n",
    "                results[result] = results.get(result, 0) + 1\n",
    "\n",
    "                self.eng.flush(deallocate_qubits=True)\n",
    "\n",
    "            for result, count in results.items():\n",
    "                results[result] = count/self.shots\n",
    "\n",
    "            return results\n",
    "    \n",
    "    def expval(self, operator, params):\n",
    "        expval = 0\n",
    "        \n",
    "        for term, coef in operator.terms.items():\n",
    "            rotations = []\n",
    "            qubits_of_interest = []\n",
    "            \n",
    "            # if term is identity, add constant coefficient\n",
    "            if term == (): \n",
    "                expval += coef\n",
    "                continue\n",
    "            \n",
    "            for qubit, op in term:     \n",
    "                qubits_of_interest.append(qubit)\n",
    "                \n",
    "                if op == 'X':\n",
    "                    rotations.append((Ry(-np.pi/2), qubit))\n",
    "                elif op == 'Y':\n",
    "                    rotations.append((Rx(np.pi/2), qubit))\n",
    "            \n",
    "            results = None\n",
    "            if self.use_qi:\n",
    "                # Quantum Inspire back-end does 1024 shots by default and\n",
    "                #   saves probabilities in the back-end object\n",
    "                qureg = self.qaoa_circuit(params)\n",
    "\n",
    "                for rot, i in reversed(rotations):\n",
    "                    rot | qureg[i]\n",
    "\n",
    "                All(Measure) | qureg\n",
    "\n",
    "                self.eng.flush()\n",
    "                results = self._get_qi_probs(qureg)\n",
    "                # can only use engine once with QI back-end\n",
    "                self._renew_engine() \n",
    "            else:\n",
    "                # sample results manually through repeated shots\n",
    "                results = {}\n",
    "                for _ in range(self.shots): \n",
    "                    qureg = self.qaoa_circuit(params)\n",
    "\n",
    "                    for rot, i in reversed(rotations):\n",
    "                        rot | qureg[i]\n",
    "\n",
    "                    All(Measure) | qureg\n",
    "\n",
    "                    result = ''.join(str(int(q)) for q in reversed(qureg))\n",
    "                    results[result] = results.get(result, 0) + 1\n",
    "                    \n",
    "                    self.eng.flush(deallocate_qubits=True)\n",
    "                \n",
    "                for result, count in results.items():\n",
    "                    results[result] = count/self.shots\n",
    "                \n",
    "            for result, count in results.items():\n",
    "                if self._even_ones(result, qubits_of_interest):\n",
    "                    parity = 1\n",
    "                else:\n",
    "                    parity = -1\n",
    "\n",
    "                expval += parity * coef * count\n",
    "        \n",
    "        return expval"
   ]
  },
  {
   "cell_type": "code",
   "execution_count": 6,
   "metadata": {},
   "outputs": [],
   "source": [
    "def test_hamiltonian(qaoa):\n",
    "    # expectation value should be -5\n",
    "    return qaoa.expval(3 * QubitOperator('X0 Z1') + QubitOperator('Y1') + 2 * QubitOperator('Z1'))"
   ]
  },
  {
   "cell_type": "code",
   "execution_count": 5,
   "metadata": {},
   "outputs": [],
   "source": [
    "from quantuminspire.credentials import enable_account, get_token_authentication\n",
    "from quantuminspire.api import QuantumInspireAPI\n",
    "  \n",
    "enable_account('6ea0bc8530ed4c97073aff535b5b52fd617cc6ed')\n",
    "auth = get_token_authentication()\n",
    "server_url = r'https://api.quantum-inspire.com'\n",
    "qi = QuantumInspireAPI(server_url, auth, project_name='qaoa_maxcut')\n",
    "\n",
    "np.random.seed(0xc0ffee)\n",
    "params = np.random.uniform(low=0, high=2*np.pi, size=(2, 1))\n",
    "\n",
    "qaoa = QAOA(G, n,use_qi=False,\n",
    "            qi_backend_kwargs={\"quantum_inspire_api\": qi, \"backend_type\": \"QX single-node simulator\"})"
   ]
  },
  {
   "cell_type": "code",
   "execution_count": 6,
   "metadata": {},
   "outputs": [
    {
     "name": "stderr",
     "output_type": "stream",
     "text": [
      "/home/soud/anaconda3/lib/python3.7/site-packages/scipy/optimize/_minimize.py:542: RuntimeWarning: Method COBYLA cannot handle bounds.\n",
      "  RuntimeWarning)\n"
     ]
    },
    {
     "name": "stdout",
     "output_type": "stream",
     "text": [
      "Params: [3.59968607 5.12202154]\n",
      "Objective: 1.18457\n",
      "Params: [4.59968607 5.12202154]\n",
      "Objective: 1.73926\n",
      "Params: [4.59968607 6.12202154]\n",
      "Objective: 2.12988\n",
      "Params: [5.41729171 6.69780016]\n",
      "Objective: 2.99316\n",
      "Params: [6.31161053 7.14523043]\n",
      "Objective: 1.98535\n",
      "Params: [5.04660438 7.03334585]\n",
      "Objective: 2.09277\n",
      "Params: [5.44469102 6.19855145]\n",
      "Objective: 1.68750\n",
      "Params: [5.63420004 6.82210132]\n",
      "Objective: 2.80469\n",
      "Params: [5.43986093 6.57485452]\n",
      "Objective: 2.92871\n",
      "Params: [5.29796175 6.7350206 ]\n",
      "Objective: 2.91602\n",
      "Params: [5.46624608 6.73665528]\n",
      "Objective: 2.96191\n",
      "Params: [5.42471105 6.66744368]\n",
      "Objective: 2.99609\n",
      "Params: [5.4095328  6.66373402]\n",
      "Objective: 3.00586\n",
      "Params: [5.38061276 6.65189367]\n",
      "Objective: 2.97070\n",
      "Params: [5.42364796 6.65703304]\n",
      "Objective: 2.99023\n"
     ]
    }
   ],
   "source": [
    "from scipy.optimize import minimize\n",
    "\n",
    "res = minimize(qaoa.cost, params, method='COBYLA',\n",
    "               bounds=[(0, 2*np.pi) for _ in params],\n",
    "               options={'disp': True, 'tol': 1e-2, 'maxiter': 15})"
   ]
  },
  {
   "cell_type": "code",
   "execution_count": 7,
   "metadata": {},
   "outputs": [
    {
     "name": "stdout",
     "output_type": "stream",
     "text": [
      "Best approximate solution = [0, 1, 0, 1] with L([0, 1, 0, 1]) = 4.0\n"
     ]
    }
   ],
   "source": [
    "best_params = res.x\n",
    "probs = qaoa.probabilities(best_params)\n",
    "highest_prob = [int(b) for b in max(probs, key=probs.get)]\n",
    "real_objective = L(G, highest_prob)\n",
    "print(f'Best approximate solution = {highest_prob} with L({highest_prob}) = {real_objective}')"
   ]
  },
  {
   "cell_type": "code",
   "execution_count": 8,
   "metadata": {},
   "outputs": [
    {
     "name": "stdout",
     "output_type": "stream",
     "text": [
      "Params: [1.39932397 3.9571841  4.85623429 1.37297588]\n",
      "Objective: 1.52637\n",
      "Params: [2.39932397 3.9571841  4.85623429 1.37297588]\n",
      "Objective: 1.41602\n",
      "Params: [1.39932397 4.9571841  4.85623429 1.37297588]\n",
      "Objective: 1.70703\n",
      "Params: [1.39932397 4.9571841  5.85623429 1.37297588]\n",
      "Objective: 2.20996\n",
      "Params: [1.39932397 4.9571841  5.85623429 2.37297588]\n",
      "Objective: 2.21582\n",
      "Params: [1.19710414 5.28825196 6.77785565 2.38371322]\n",
      "Objective: 2.95801\n",
      "Params: [1.06826778 5.11073023 7.75347875 2.39055409]\n",
      "Objective: 1.17871\n",
      "Params: [1.6845627  5.3669417  6.85654539 2.38371322]\n",
      "Objective: 3.48340\n",
      "Params: [1.76886675 6.34814433 6.68295717 2.38488027]\n",
      "Objective: 2.47363\n",
      "Params: [2.21509911 4.90252835 7.56565874 2.38681214]\n",
      "Objective: 3.34277\n",
      "Params: [1.84900227 5.21346523 6.61290571 2.75793817]\n",
      "Objective: 3.43945\n",
      "Params: [1.86863324 5.19599721 6.58755258 2.04527727]\n",
      "Objective: 3.32129\n",
      "Params: [1.80184215 5.26501334 7.05145454 2.40285905]\n",
      "Objective: 3.57129\n",
      "Params: [1.9621554  5.43899894 7.12712875 2.43118022]\n",
      "Objective: 2.17773\n",
      "Params: [1.7282306  5.29676128 7.10450149 2.48276167]\n",
      "Objective: 3.26367\n"
     ]
    }
   ],
   "source": [
    "from scipy.optimize import minimize\n",
    "\n",
    "np.random.seed(0xdeadbeef)\n",
    "params = np.random.uniform(low=0, high=2*np.pi, size=(2, 2))\n",
    "\n",
    "qaoa = QAOA(G, n, p=2, use_qi=False)\n",
    "\n",
    "res = minimize(qaoa.cost, params, method='COBYLA',\n",
    "               bounds=[(0, 2*np.pi) for _ in params],\n",
    "               options={'disp': True, 'tol': 1e-2, 'maxiter': 15})"
   ]
  },
  {
   "cell_type": "code",
   "execution_count": 13,
   "metadata": {},
   "outputs": [
    {
     "name": "stdout",
     "output_type": "stream",
     "text": [
      "Best approximate solution = [1, 0, 1, 0] with L([1, 0, 1, 0]) = 4.0\n"
     ]
    }
   ],
   "source": [
    "best_params = res.x.flatten('F')\n",
    "probs = qaoa.probabilities(best_params)\n",
    "highest_prob = [int(b) for b in max(probs, key=probs.get)]\n",
    "real_objective = L(G, highest_prob)\n",
    "print(f'Best approximate solution = {highest_prob} with L({highest_prob}) = {real_objective}')"
   ]
  },
  {
   "cell_type": "code",
   "execution_count": 14,
   "metadata": {},
   "outputs": [
    {
     "data": {
      "text/plain": [
       "     fun: -3.5712890625\n",
       "   maxcv: 0.0\n",
       " message: 'Maximum number of function evaluations has been exceeded.'\n",
       "    nfev: 15\n",
       "  status: 2\n",
       " success: False\n",
       "       x: array([[1.80184215, 7.05145454],\n",
       "       [5.26501334, 2.40285905]])"
      ]
     },
     "execution_count": 14,
     "metadata": {},
     "output_type": "execute_result"
    }
   ],
   "source": [
    "res"
   ]
  }
 ],
 "metadata": {
  "kernelspec": {
   "display_name": "Python 3",
   "language": "python",
   "name": "python3"
  },
  "language_info": {
   "codemirror_mode": {
    "name": "ipython",
    "version": 3
   },
   "file_extension": ".py",
   "mimetype": "text/x-python",
   "name": "python",
   "nbconvert_exporter": "python",
   "pygments_lexer": "ipython3",
   "version": "3.7.1"
  }
 },
 "nbformat": 4,
 "nbformat_minor": 2
}
