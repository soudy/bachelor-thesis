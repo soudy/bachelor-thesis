{
 "cells": [
  {
   "cell_type": "code",
   "execution_count": 7,
   "metadata": {},
   "outputs": [],
   "source": [
    "import autograd.numpy as np\n",
    "from autograd import grad\n",
    "\n",
    "def cost(alpha, beta):\n",
    "    return 2*np.sin(np.sqrt(alpha**2 + beta**2)) + np.sin(alpha + beta)\n",
    "\n",
    "cost_grad_alpha = grad(cost, 0)\n",
    "cost_grad_beta = grad(cost, 1)\n",
    "\n",
    "x = np.linspace(-5, 5, 100)\n",
    "y = np.linspace(-5, 5, 100)\n",
    "\n",
    "X, Y = np.meshgrid(x, y)\n",
    "Z = cost(X, Y)"
   ]
  },
  {
   "cell_type": "code",
   "execution_count": 10,
   "metadata": {},
   "outputs": [
    {
     "name": "stdout",
     "output_type": "stream",
     "text": [
      "-4.023677746493324 2.4528813994096983\n"
     ]
    }
   ],
   "source": [
    "from mayavi import mlab\n",
    "from matplotlib.cm import get_cmap\n",
    "\n",
    "fig = mlab.figure(bgcolor=(1, 1, 1), size=(1024, 1024))\n",
    "su = mlab.surf(X.T, Y.T, Z.T)\n",
    "\n",
    "# parameters\n",
    "alpha, beta = -0.166, 1.634\n",
    "lr = 0.05\n",
    "\n",
    "optimized_x = []\n",
    "optimized_y = []\n",
    "optimized_z = []\n",
    "\n",
    "# gradient descent\n",
    "for i in range(300):\n",
    "    optimized_x.append(alpha)\n",
    "    optimized_y.append(beta)\n",
    "    optimized_z.append(cost(alpha, beta))\n",
    "    alpha -= cost_grad_alpha(alpha, beta) * lr\n",
    "    beta -= cost_grad_beta(alpha, beta) * lr\n",
    "\n",
    "print(alpha, beta)\n",
    "\n",
    "sc = mlab.points3d(optimized_x, optimized_y, optimized_z, scale_factor=0.15, scale_mode='scalar',\n",
    "                   opacity=1.0, resolution=50, color=(1,0,0))\n",
    "\n",
    "cmap_name = 'magma'\n",
    "cdat = np.array(get_cmap(cmap_name, 256).colors)\n",
    "cdat = (cdat*255).astype(int)\n",
    "su.module_manager.scalar_lut_manager.lut.table = cdat\n",
    "\n",
    "mlab.show()"
   ]
  }
 ],
 "metadata": {
  "kernelspec": {
   "display_name": "Python 3",
   "language": "python",
   "name": "python3"
  },
  "language_info": {
   "codemirror_mode": {
    "name": "ipython",
    "version": 3
   },
   "file_extension": ".py",
   "mimetype": "text/x-python",
   "name": "python",
   "nbconvert_exporter": "python",
   "pygments_lexer": "ipython3",
   "version": "3.7.1"
  }
 },
 "nbformat": 4,
 "nbformat_minor": 2
}
